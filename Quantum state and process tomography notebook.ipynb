{
 "cells": [
  {
   "cell_type": "markdown",
   "metadata": {},
   "source": [
    "*Copyright 2024. Fermi Research Alliance, LLC. This material is based upon work supported by the U.S. Department of Energy, Office of Science, National Quantum Information Science Research Centers, Superconducting Quantum Materials and Systems (SQMS) Center under the contract No. DE-AC02-07CH11359. The U.S. Government has rights to use, reproduce, and distribute this software. NEITHER THE GOVERNMENT NOR FERMI RESEARCH ALLIANCE, LLC MAKES ANY WARRANTY, EXPRESS OR IMPLIED, OR ASSUMES ANY LIABILITY FOR THE USE OF THIS SOFTWARE. If software is modified to produce derivative works, such modified software should be clearly marked, so as not to confuse it with the version available from Fermilab.*\n",
    "\n",
    "*Licensed under the Apache License, Version 2.0 (the \"License\"); you may not use this file except in compliance with the License. You may obtain a copy of the License at: http://www.apache.org/licenses/LICENSE-2.0*\n",
    "\n",
    "*Unless required by applicable law or agreed to in writing, software distributed under the License is distributed on an \"AS IS\" BASIS, WITHOUT WARRANTIES OR CONDITIONS OF ANY KIND, either express or implied. See the License for the specific language governing permissions and limitations under the License.*"
   ]
  },
  {
   "cell_type": "markdown",
   "metadata": {},
   "source": [
    "# Quantum state & process tomography"
   ]
  },
  {
   "cell_type": "markdown",
   "metadata": {},
   "source": [
    "- Author: Nicholas Bornman\n",
    "- Date: 21 August 2024"
   ]
  },
  {
   "cell_type": "markdown",
   "metadata": {},
   "source": [
    "This notebook contains functions and logic needed to perform single and two qubit quantum state tomography using just the probability estimators we'd get from actual lab results as the input, as well as single and two qubit standard quantum process tomography, also using only the experimental results as input.\n",
    "\n",
    "The code also optionally prints useful descriptions of the steps in important subroutines, such as the kinds of separable states that need to be prepared for the single and two qubit cases, and/or the basis in which the local measurements should be performed.\n",
    "\n",
    "Useful references:\n",
    "\n",
    "1. https://research.physics.illinois.edu/QI/Photonics/tomography-files/tomo_chapter_2004.pdf\n",
    "2. https://arxiv.org/pdf/quant-ph/0702131\n",
    "3. https://arxiv.org/pdf/1509.02921"
   ]
  },
  {
   "cell_type": "code",
   "execution_count": null,
   "metadata": {},
   "outputs": [],
   "source": [
    "should_print_description = True"
   ]
  },
  {
   "cell_type": "markdown",
   "metadata": {},
   "source": [
    "## Preamble"
   ]
  },
  {
   "cell_type": "code",
   "execution_count": null,
   "metadata": {},
   "outputs": [],
   "source": [
    "import os\n",
    "import numpy as np\n",
    "import functools\n",
    "import pickle\n",
    "\n",
    "from scipy.linalg import expm, ishermitian, solve, eig\n",
    "\n",
    "import matplotlib\n",
    "\n",
    "import matplotlib.pyplot as plt\n",
    "from matplotlib.colors import Normalize\n",
    "from matplotlib import cm, colormaps\n"
   ]
  },
  {
   "cell_type": "markdown",
   "metadata": {},
   "source": [
    "Matplotlib plot settings"
   ]
  },
  {
   "cell_type": "code",
   "execution_count": null,
   "metadata": {},
   "outputs": [],
   "source": [
    "titlefont = {'color':  'black', 'weight': 'normal','size': 10}\n",
    "axisfont = {'color':  'black', 'weight': 'normal','size': 8}\n",
    "ticksfont = {'color':  'black', 'weight': 'normal','size': 8}"
   ]
  },
  {
   "cell_type": "markdown",
   "metadata": {},
   "source": [
    "Some useful defintions"
   ]
  },
  {
   "cell_type": "code",
   "execution_count": null,
   "metadata": {},
   "outputs": [],
   "source": [
    "x = np.array([[0,1],[1,0]])\n",
    "y = np.array([[0,-1j],[1j,0]])\n",
    "z = np.array([[1,0],[0,-1]])\n",
    "i = np.array([[1,0],[0,1]])\n",
    "h = (1/np.sqrt(2)) * np.array([[1,1],[1,-1]])"
   ]
  },
  {
   "cell_type": "code",
   "execution_count": null,
   "metadata": {},
   "outputs": [],
   "source": [
    "def matrix_rotate(theta, op):\n",
    "\n",
    "    return expm((-1j/2) * theta * op)"
   ]
  },
  {
   "cell_type": "code",
   "execution_count": null,
   "metadata": {},
   "outputs": [],
   "source": [
    "xm90 = matrix_rotate(-np.pi/2, x)\n",
    "x90 = matrix_rotate(np.pi/2, x)\n",
    "ym90 = matrix_rotate(-np.pi/2, y)\n",
    "y90 = matrix_rotate(np.pi/2, y)"
   ]
  },
  {
   "cell_type": "code",
   "execution_count": null,
   "metadata": {},
   "outputs": [],
   "source": [
    "def ketbra(ket, bra):\n",
    "\n",
    "    return np.outer(ket, np.conj(bra))\n",
    "\n",
    "def ketbradiag(ket):\n",
    "\n",
    "    return np.outer(ket, np.conj(ket))\n",
    "\n",
    "def kron(op1, op2):\n",
    "\n",
    "    return np.kron(op1, op2)"
   ]
  },
  {
   "cell_type": "code",
   "execution_count": null,
   "metadata": {},
   "outputs": [],
   "source": [
    "def is_pos_semidef(x):\n",
    "    return np.all(np.linalg.eigvals(x) >= 0)"
   ]
  },
  {
   "cell_type": "markdown",
   "metadata": {},
   "source": [
    "## Quantum State Tomography"
   ]
  },
  {
   "cell_type": "markdown",
   "metadata": {},
   "source": [
    "The following sections have detailed explanations of the purpose of the various functions and other Python objects, but the math and logic below follows Ref 1 closely. The reader is encouraged to consult this reference.\n",
    "\n",
    "Run the \"Single qubit functions\" and \"Two qubit functions\" sections to load the required functions needed in the examples sections.\n",
    "\n",
    "What you need to know for the \"single qubit\" section:\n",
    "1. For any prepared state, in the lab, take measurements of the qubit in the $X$, $Y$ and $Z$ bases. This gives you the probabilities of measuring the six cardinal Bloch sphere states of the qubit, before readout correction\n",
    "2. Optionally, use the results from a calibrated two state discriminator to correct any readout error in the results\n",
    "3. Format these results into a results dictionary similar to that outputted by the 'compute_probabilities1' function in the \"Single qubit example\" section\n",
    "4. Run 'compute_stokes_parameters1' on this object, which gives the corresponding Stokes' parameters dictionary\n",
    "5. Run \"reconstruct_state1\" on this dictionary, which gives you the inferred density matrix for the state\n",
    "\n",
    "What you need to know for the \"two qubit\" section:\n",
    "1. For any prepared two qubit state, in the lab, take measurements of the qubits in their $X$, $Y$ and $Z$ bases, independently (so you perform measurements in 3x3 = 9 different bases). This gives you the probabilities of measuring the qubits in their individual six Bloch sphere states, before readout correction\n",
    "2. Optionally, use the results from a calibrated two state discriminator, one for each of the two qubits, to correct any readout error in the results\n",
    "3. Format these results into a results dictionary similar to that outputted by the 'compute_probabilities2' function in the \"Two qubit example\" section\n",
    "4. Run 'compute_stokes_parameters2' on this object, which gives the corresponding Stokes' parameters dictionary\n",
    "5. Run \"reconstruct_state2\" on this dictionary, which gives you the inferred density matrix for the two qubit state"
   ]
  },
  {
   "cell_type": "markdown",
   "metadata": {},
   "source": [
    "### Single qubit functions"
   ]
  },
  {
   "cell_type": "markdown",
   "metadata": {},
   "source": [
    "Maps an integer to a string representing one of the six cardinal points of the Bloch sphere. Pairs 1-2, 3-4, and 5-6, are complementary states and each form a basis for a single qubit Hilbert space."
   ]
  },
  {
   "cell_type": "code",
   "execution_count": null,
   "metadata": {},
   "outputs": [],
   "source": [
    "integer_to_state_string_map1 = {\n",
    "    1: \"|0>\",\n",
    "    2: \"|1>\",\n",
    "    3: \"1/sqrt(2)(|0>+|1>)\",\n",
    "    4: \"1/sqrt(2)(|0>-|1>)\",\n",
    "    5: \"1/sqrt(2)(|0>+i|1>)\",\n",
    "    6: \"1/sqrt(2)(|0>-i|1>)\"\n",
    "}"
   ]
  },
  {
   "cell_type": "markdown",
   "metadata": {},
   "source": [
    "Maps an integer to a numpy array representation of the qubit state corresponding to the string representation from the above dictionary."
   ]
  },
  {
   "cell_type": "code",
   "execution_count": null,
   "metadata": {},
   "outputs": [],
   "source": [
    "integer_to_state_ket_map1 = {\n",
    "    1: np.array([1, 0]),\n",
    "    2: np.array([0, 1]),\n",
    "    3: 1/np.sqrt(2) * np.array([1, 1]),\n",
    "    4: 1/np.sqrt(2) * np.array([1, -1]),\n",
    "    5: 1/np.sqrt(2) * np.array([1, 1j]),\n",
    "    6: 1/np.sqrt(2) * np.array([1, -1j])\n",
    "}"
   ]
  },
  {
   "cell_type": "markdown",
   "metadata": {},
   "source": [
    "A map that indicates the ideal single qubit gate that needs to be applied to a qubit initialised in the ground state, in order to create the state with the string representation from the 'integer_to_state_string_map1' map above, or the numpy array representation from the 'integer_to_state_ket_map1' map above."
   ]
  },
  {
   "cell_type": "code",
   "execution_count": null,
   "metadata": {},
   "outputs": [],
   "source": [
    "make_state_from_ground_map1 = {\n",
    "    1: \"I\",\n",
    "    2: \"X180/Y180\",\n",
    "    3: \"Y90\",\n",
    "    4: \"Y-90\",\n",
    "    5: \"X-90\",\n",
    "    6: \"X90\"\n",
    "}"
   ]
  },
  {
   "cell_type": "markdown",
   "metadata": {},
   "source": [
    "Maps the stokes index ($i$ in $S_{i}$, where $S_{i}$ is a Stokes parameter) to the Pauli operator basis decomposisiton of any density matrix"
   ]
  },
  {
   "cell_type": "code",
   "execution_count": null,
   "metadata": {},
   "outputs": [],
   "source": [
    "stokes_index_to_pauli1 = {0: i, 1: x, 2: y, 3: z}"
   ]
  },
  {
   "cell_type": "markdown",
   "metadata": {},
   "source": [
    "A dictionary which maps the Stokes parameter index to a list of two lists. The first is a list of integers corresponding to Bloch sphere states (as in the 'integer_to_state_string_map1' map above), projective measurement values of which need to be ADDED together, while the second is a list of integers corresponding to Bloch sphere states, projective measurement values of which need to be SUBTRACTED, in order to reconstruct the Stokes parameter.\n",
    "\n",
    "For example, given an arbitrary unknown density matrix, to deduce the Stokes parameter $S_{1}$, we would need to measure the probability of measuring the Bloch sphere state 3, i.e. $\\frac{1}{\\sqrt{2}} \\left(\\left |0 \\right > + \\left |1 \\right > \\right)$ (giving $P_3$), minus the probability of measuring the Bloch sphere state 4, i.e. $\\frac{1}{\\sqrt{2}} \\left(\\left |0 \\right > - \\left |1 \\right > \\right)$ (giving $P_4$). Then $S_{1} = P_3 - P_4$. Similarly, to deduce the Stokes parameter $S_{0}$, we would need to measure the probability of measuring the Bloch sphere state 1, i.e. $\\left |0 \\right >$ (giving $P_1$), plus the probability of measuring the Bloch sphere state 2, i.e. $\\left |1 \\right >$ (giving $P_2$). Then $S_{0} = P_1 + P_2$ (which should always equal 1 for a pure state)."
   ]
  },
  {
   "cell_type": "code",
   "execution_count": null,
   "metadata": {},
   "outputs": [],
   "source": [
    "stokes_index_to_projector_combinations_map1 = {0: [[1,2], []], 1: [[3], [4]], 2: [[5], [6]], 3: [[1], [2]]}"
   ]
  },
  {
   "cell_type": "markdown",
   "metadata": {},
   "source": [
    "Given a single qubit density matrix, the following function decomposes the state into the Pauli basis and outputs a dictionary which maps the Stokes parameter index to the corresponding value.\n",
    "\n",
    "This function is used in simulations and can be used in sanity checks."
   ]
  },
  {
   "cell_type": "code",
   "execution_count": null,
   "metadata": {},
   "outputs": [],
   "source": [
    "def compute_probabilities1(rho, should_print_description = False):\n",
    "\n",
    "    assoc = {}\n",
    "\n",
    "    if should_print_description:\n",
    "        print(f\"For input state rho = {rho}:\\n\")\n",
    "    \n",
    "    for j in range(1, len(integer_to_state_string_map1) + 1):\n",
    "        answer = np.round(np.trace(rho @ ketbradiag(integer_to_state_ket_map1[j])), decimals=7)\n",
    "\n",
    "        if not np.isclose(answer.imag, 0.0):\n",
    "            raise ValueError(f\"The probability value {anwser} should have an imaginary part of 0.\")\n",
    "        else:\n",
    "            answer = answer.real\n",
    "\n",
    "        if should_print_description:\n",
    "            print(f\"{j}: Probability of measuring state {integer_to_state_string_map1[j]} (which is made using gate {make_state_from_ground_map1[j]} from |0>): {answer}\\n\")\n",
    "        \n",
    "        assoc[j] = answer\n",
    "    \n",
    "    return assoc"
   ]
  },
  {
   "cell_type": "markdown",
   "metadata": {},
   "source": [
    "Given an input dictionary with keys corresponding to the integers of the six cardinal Bloch sphere states (as in the dictionary 'integer_to_state_string_map1') and the values corresponding with the probability of measuring the corresponding Bloch sphere state, the following function computes a dictionary of the four Stokes parameters (using the information from the 'stokes_index_to_projector_combinations_map1' map above).\n",
    "\n",
    "If one has experimental data corresponding with the probabilities of measuring the six Bloch sphere states for a given arbitrary single qubit state, formatted into a dictionary format, the following computes the Stokes parameters. While this is somewhat trivial in the single qubit state tomography case, such mappings become useful in the two qubit state tomography case."
   ]
  },
  {
   "cell_type": "code",
   "execution_count": null,
   "metadata": {},
   "outputs": [],
   "source": [
    "def compute_stokes_parameters1(state_to_prob_map, should_print_description = False):\n",
    "\n",
    "    param = 0\n",
    "    assoc = {}\n",
    "\n",
    "    func = lambda x: state_to_prob_map[x]\n",
    "\n",
    "    for j in range(len(stokes_index_to_projector_combinations_map1)):\n",
    "\n",
    "        param = sum(list(map(func, stokes_index_to_projector_combinations_map1[j][0]))) - sum(list(map(func, stokes_index_to_projector_combinations_map1[j][1])))\n",
    "\n",
    "        if should_print_description:\n",
    "            print(f\"Stokes S{j} parameter: {param}\\n\")\n",
    "        \n",
    "        assoc[f\"S{j}\"] = param\n",
    "    \n",
    "    return assoc"
   ]
  },
  {
   "cell_type": "markdown",
   "metadata": {},
   "source": [
    "Given a dictionary of Stokes parameters, the following reconstructs the inferred single qubit density matrix."
   ]
  },
  {
   "cell_type": "code",
   "execution_count": null,
   "metadata": {},
   "outputs": [],
   "source": [
    "def reconstruct_state1(stokes_assoc):\n",
    "\n",
    "    state = 0.0 + 0.0*1j\n",
    "\n",
    "    for j in range(len(stokes_assoc)):\n",
    "\n",
    "        state += 0.5 * stokes_assoc[f\"S{j}\"] * stokes_index_to_pauli1[j]\n",
    "    \n",
    "    return state"
   ]
  },
  {
   "cell_type": "markdown",
   "metadata": {},
   "source": [
    "### Single qubit examples"
   ]
  },
  {
   "cell_type": "markdown",
   "metadata": {},
   "source": [
    "Single qubit state $\\rho$ to perform state tomography on."
   ]
  },
  {
   "cell_type": "code",
   "execution_count": null,
   "metadata": {},
   "outputs": [],
   "source": [
    "rho = 0.5 * np.array([[1, -1j], [1j, 1]])"
   ]
  },
  {
   "cell_type": "markdown",
   "metadata": {},
   "source": [
    "Compute the probabilities of measuring the six cardinal Bloch sphere states after repeated measurements on an ensemble of identical states $\\rho$."
   ]
  },
  {
   "cell_type": "code",
   "execution_count": null,
   "metadata": {},
   "outputs": [],
   "source": [
    "state_probabilities = compute_probabilities1(rho, should_print_description)\n",
    "state_probabilities"
   ]
  },
  {
   "cell_type": "markdown",
   "metadata": {},
   "source": [
    "In the lab, we may not know what the state $\\rho$ is, and \"compute_probabilities1\" simply simulated measurements, given this input state $\\rho$ above.\n",
    "\n",
    "In practice, for an unknown state, we simply need to form a dictionary of probabilities (which are collected experimentally), similar to the one outputted by the above \"state_probabilities\" variable, by taking measurements according to the printed description.\n",
    "\n",
    "This then gets fed into the \"compute_stokes_parameters1\" function below."
   ]
  },
  {
   "cell_type": "code",
   "execution_count": null,
   "metadata": {},
   "outputs": [],
   "source": [
    "stokes_params = compute_stokes_parameters1(state_probabilities, should_print_description)\n",
    "stokes_params"
   ]
  },
  {
   "cell_type": "markdown",
   "metadata": {},
   "source": [
    "Use the Stokes parameters above, which were derived from various combinations of the experimental measurement probabilities in the dictionary, to reconstruct the density matrix state."
   ]
  },
  {
   "cell_type": "code",
   "execution_count": null,
   "metadata": {},
   "outputs": [],
   "source": [
    "reconstruct_state1(stokes_params)"
   ]
  },
  {
   "cell_type": "markdown",
   "metadata": {},
   "source": [
    "### Two qubit functions"
   ]
  },
  {
   "cell_type": "markdown",
   "metadata": {},
   "source": [
    "Maps an integer to a string representing one of the thirty-six cardinal points of the Bloch spheres of two qubits. Akin to 'integer_to_state_string_map1' above, now just for two qubits."
   ]
  },
  {
   "cell_type": "code",
   "execution_count": null,
   "metadata": {},
   "outputs": [],
   "source": [
    "integer_to_state_string_map2 = {\n",
    "   1: \"|0>|0>\",\n",
    "   2: \"|0>|1>\",\n",
    "   3: \"1/sqrt(2)|0>(|0>+|1>)\",\n",
    "   4: \"1/sqrt(2)|0>(|0>-|1>)\",\n",
    "   5: \"1/sqrt(2)|0>(|0>+i|1>)\",\n",
    "   6: \"1/sqrt(2)|0>(|0>-i|1>)\",\n",
    "   7: \"|1>|0>\",\n",
    "   8: \"|1>|1>\",\n",
    "   9: \"1/sqrt(2)|1>(|0>+|1>)\",\n",
    "   10: \"1/sqrt(2)|1>(|0>-|1>)\",\n",
    "   11: \"1/sqrt(2)|1>(|0>+i|1>)\",\n",
    "   12: \"1/sqrt(2)|1>(|0>-i|1>)\",\n",
    "   13: \"1/sqrt(2)(|0>+|1>)|0>\",\n",
    "   14: \"1/sqrt(2)(|0>+|1>)|1>\",\n",
    "   15: \"1/2(|0>+|1>)(|0>+|1>)\",\n",
    "   16: \"1/2(|0>+|1>)(|0>-|1>)\",\n",
    "   17: \"1/2(|0>+|1>)(|0>+i|1>)\",\n",
    "   18: \"1/2(|0>+|1>)(|0>-i|1>)\",\n",
    "   19: \"1/sqrt(2)(|0>-|1>)|0>\",\n",
    "   20: \"1/sqrt(2)(|0>-|1>)|1>\",\n",
    "   21: \"1/2(|0>-|1>)(|0>+|1>)\",\n",
    "   22: \"1\\2(|0>-|1>)(|0>-|1>)\",\n",
    "   23: \"1\\2(|0>-|1>)(|0>+i|1>)\",\n",
    "   24: \"1\\2(|0>-|1>)(|0>-i|1>)\",\n",
    "   25: \"1/sqrt(2)(|0>+i|1>)|0>\",\n",
    "   26: \"1/sqrt(2)(|0>+i|1>)|1>\",\n",
    "   27: \"1/2(|0>+i|1>)(|0>+|1>)\",\n",
    "   28: \"1/2(|0>+i|1>)(|0>-|1>)\",\n",
    "   29: \"1/2(|0>+i|1>)(|0>+i|1>)\",\n",
    "   30: \"1/2(|0>+i|1>)(|0>-i|1>)\",\n",
    "   31: \"1/sqrt(2)(|0>-i|1>)|0>\",\n",
    "   32: \"1/sqrt(2)(|0>-i|1>)|1>\",\n",
    "   33: \"1/2(|0>-i|1>)(|0>+|1>)\",\n",
    "   34: \"1/2(|0>-i|1>)(|0>-|1>)\",\n",
    "   35: \"1/2(|0>-i|1>)(|0>+i|1>)\",\n",
    "   36: \"1/2(|0>-i|1>)(|0>-i|1>)\"\n",
    "}"
   ]
  },
  {
   "cell_type": "markdown",
   "metadata": {},
   "source": [
    "Maps an integer to a numpy array representation of the two-qubit state corresponding to the string representation from the above 'integer_to_state_string_map2' dictionary. Akin to 'integer_to_state_string_map1', now just for two qubits."
   ]
  },
  {
   "cell_type": "code",
   "execution_count": null,
   "metadata": {},
   "outputs": [],
   "source": [
    "integer_to_state_ket_map2 = {\n",
    "    1: np.array([1, 0, 0, 0]),\n",
    "    2: np.array([0, 1, 0, 0]),\n",
    "    3: 1/np.sqrt(2) * np.array([1, 1, 0, 0]),\n",
    "    4: 1/np.sqrt(2) * np.array([1, -1, 0, 0]),\n",
    "    5: 1/np.sqrt(2) * np.array([1, 1j, 0, 0]),\n",
    "    6: 1/np.sqrt(2) * np.array([1, -1j, 0, 0]),\n",
    "    7: np.array([0, 0, 1, 0]),\n",
    "    8: np.array([0, 0, 0, 1]),\n",
    "    9: 1/np.sqrt(2) * np.array([0, 0, 1, 1]),\n",
    "    10: 1/np.sqrt(2) * np.array([0, 0, 1, -1]),\n",
    "    11: 1/np.sqrt(2) * np.array([0, 0, 1, 1j]),\n",
    "    12: 1/np.sqrt(2) * np.array([0, 0, 1, -1j]),\n",
    "    13: 1/np.sqrt(2) * np.array([1, 0, 1, 0]),\n",
    "    14: 1/np.sqrt(2) * np.array([0, 1, 0, 1]),\n",
    "    15: (1/2)*np.array([1, 1, 1, 1]),\n",
    "    16: (1/2)*np.array([1, -1, 1, -1]),\n",
    "    17: (1/2)*np.array([1, 1j, 1, 1j]),\n",
    "    18: (1/2)*np.array([1, -1j, 1, -1j]),\n",
    "    19: 1/np.sqrt(2) * np.array([1, 0, -1, 0]),\n",
    "    20: 1/np.sqrt(2) * np.array([0, 1, 0, -1]),\n",
    "    21: (1/2)*np.array([1, 1, -1, -1]),\n",
    "    22: (1/2)*np.array([1, -1, -1, 1]),\n",
    "    23: (1/2)*np.array([1, 1j, -1, -1j]),\n",
    "    24: (1/2)*np.array([1, -1j, -1, 1j]),\n",
    "    25: 1/np.sqrt(2) * np.array([1, 0, 1j, 0]),\n",
    "    26: 1/np.sqrt(2) * np.array([0, 1, 0, 1j]),\n",
    "    27: (1/2)*np.array([1, 1, 1j, 1j]),\n",
    "    28: (1/2)*np.array([1, -1, 1j, -1j]),\n",
    "    29: (1/2)*np.array([1, 1j, 1j, -1]),\n",
    "    30: (1/2)*np.array([1, -1j, 1j, 1]),\n",
    "    31: 1/np.sqrt(2) * np.array([1, 0, -1j, 0]),\n",
    "    32: 1/np.sqrt(2) * np.array([0, 1, 0, -1j]),\n",
    "    33: (1/2)*np.array([1, 1, -1j, -1j]),\n",
    "    34: (1/2)*np.array([1, -1, -1j, 1j]),\n",
    "    35: (1/2)*np.array([1, 1j, -1j, 1]),\n",
    "    36: (1/2)*np.array([1, -1j, -1j, -1])\n",
    "}"
   ]
  },
  {
   "cell_type": "markdown",
   "metadata": {},
   "source": [
    "Maps indicating the ideal separable two-qubit gate that needs to be applied to qubits initialised in their ground states, in order to create the state with the string representation from the 'integer_to_state_string_map2' map above, or the numpy array representation from the 'integer_to_state_ket_map2' map above. Akin to 'make_state_from_ground_map1', now just for two qubits"
   ]
  },
  {
   "cell_type": "code",
   "execution_count": null,
   "metadata": {},
   "outputs": [],
   "source": [
    "make_state_from_ground_map2 = {\n",
    "    1: \"I⊗I\",\n",
    "    2: \"I⊗(X180/Y180)\",\n",
    "    3: \"I⊗Y90\",\n",
    "    4: \"I⊗Y-90\",\n",
    "    5: \"I⊗X-90\",\n",
    "    6: \"I⊗X90\",\n",
    "    7: \"(X180/Y180)⊗I\",\n",
    "    8: \"(X180/Y180)⊗(X180/Y180)\",\n",
    "    9: \"(X180/Y180)⊗Y90\",\n",
    "    10: \"(X180/Y180)⊗Y-90\",\n",
    "    11: \"(X180/Y180)⊗X-90\",\n",
    "    12: \"(X180/Y180)⊗X90\",\n",
    "    13: \"Y90⊗I\",\n",
    "    14: \"Y90⊗(X180/Y180)\",\n",
    "    15: \"Y90⊗Y90\",\n",
    "    16: \"Y90⊗Y-90\",\n",
    "    17: \"Y90⊗X-90\",\n",
    "    18: \"Y90⊗X90\",\n",
    "    19: \"Y-90⊗I\",\n",
    "    20: \"Y-90⊗(X180/Y180)\",\n",
    "    21: \"Y-90⊗Y90\",\n",
    "    22: \"Y-90⊗Y-90\",\n",
    "    23: \"Y-90⊗X-90\",\n",
    "    24: \"Y-90⊗X90\",\n",
    "    25: \"X-90⊗I\",\n",
    "    26: \"X-90⊗(X180/Y180)\",\n",
    "    27: \"X-90⊗Y90\",\n",
    "    28: \"X-90⊗Y-90\",\n",
    "    29: \"X-90⊗X-90\",\n",
    "    30: \"X-90⊗X90\",\n",
    "    31: \"X90⊗I\",\n",
    "    32: \"X90⊗(X180/Y180)\",\n",
    "    33: \"X90⊗Y90\",\n",
    "    34: \"X90⊗Y-90\",\n",
    "    35: \"X90⊗X-90\",\n",
    "    36: \"X90⊗X90\"\n",
    "}"
   ]
  },
  {
   "cell_type": "markdown",
   "metadata": {},
   "source": [
    "Maps the stokes index ($i$ in $S_{i}$, where $S_{i}$ is a Stokes parameter) to the Pauli operator basis decomposisiton of a two-qubit density matrix. Akin to 'stokes_index_to_pauli1', now just for two qubits."
   ]
  },
  {
   "cell_type": "code",
   "execution_count": null,
   "metadata": {},
   "outputs": [],
   "source": [
    "stokes_index_to_pauli2 = {\n",
    "    0: kron(i,i),\n",
    "    1: kron(i,x),\n",
    "    2: kron(i,y),\n",
    "    3: kron(i,z),\n",
    "    4: kron(x,i),\n",
    "    5: kron(x,x),\n",
    "    6: kron(x,y),\n",
    "    7: kron(x,z),\n",
    "    8: kron(y,i),\n",
    "    9: kron(y,x),\n",
    "    10: kron(y,y),\n",
    "    11: kron(y,z),\n",
    "    12: kron(z,i),\n",
    "    13: kron(z,x),\n",
    "    14: kron(z,y),\n",
    "    15: kron(z,z)\n",
    "}"
   ]
  },
  {
   "cell_type": "markdown",
   "metadata": {},
   "source": [
    "A dictionary which maps the Stokes parameter index to a list of two lists. The first is a list of integers corresponding to separable two-qubit Bloch sphere states (as in the 'integer_to_state_string_map2' map above), projective measurement values of which need to be ADDED together, while the second is a list of integers corresponding to two qubit Bloch sphere states, projective measurement values of which need to be SUBTRACTED, in order to reconstruct the Stokes parameter.\n",
    "\n",
    "For example, given an arbitrary unknown density matrix for a two qubit states, to deduce the Stokes parameter $S_{2}$, we would need to measure the probability of measuring the two qubit Bloch sphere state 5, i.e. $\\frac{1}{\\sqrt{2}} \\left |0 \\right > \\left ( \\left | 0 \\right > +i \\left | 1 \\right > \\right )$ (giving $P_5$) plus the probability of measuring the two qubit Bloch sphere state 11, i.e. $\\frac{1}{\\sqrt{2}} \\left |1 \\right > \\left ( \\left | 0 \\right > +i \\left | 1 \\right > \\right )$ (giving $P_{11}$), minus the probability of measuring the two qubit Bloch sphere state 6, i.e. $\\frac{1}{\\sqrt{2}} \\left |0 \\right > \\left ( \\left | 0 \\right > -i \\left | 1 \\right > \\right )$ (giving $P_{6}$), minus the probability of measuring the two qubit Bloch sphere state 12, i.e. $\\frac{1}{\\sqrt{2}} \\left |1 \\right > \\left ( \\left | 0 \\right > -i \\left | 1 \\right > \\right )$ (giving $P_{12}$). Then $S_{2} = P_5 + P_{11} - P_{6} - P_{12}$.\n",
    "\n",
    "Akin to 'stokes_index_to_projector_combinations_map2', now just for two qubits."
   ]
  },
  {
   "cell_type": "code",
   "execution_count": null,
   "metadata": {},
   "outputs": [],
   "source": [
    "stokes_index_to_projector_combinations_map2 = {\n",
    "    0: [[1, 2, 7, 8], []],\n",
    "    1: [[3, 9], [4, 10]],\n",
    "    2: [[5, 11], [6, 12]],\n",
    "    3: [[1, 7], [2, 8]],\n",
    "    4: [[13, 14], [19, 20]],\n",
    "    5: [[15, 22], [16, 21]],\n",
    "    6: [[17, 24], [18, 23]],\n",
    "    7: [[13, 20], [14, 19]],\n",
    "    8: [[25, 26], [31, 32]],\n",
    "    9: [[27, 34], [28, 33]],\n",
    "    10: [[29, 36], [30, 35]],\n",
    "    11: [[25, 32], [26, 31]],\n",
    "    12: [[1, 2], [7, 8]],\n",
    "    13: [[3, 10], [4, 9]],\n",
    "    14: [[5, 12], [6, 11]],\n",
    "    15: [[1, 8], [2, 7]]\n",
    "}"
   ]
  },
  {
   "cell_type": "markdown",
   "metadata": {},
   "source": [
    "Given a two qubit qubit density matrix, the following function decomposes the state into the Pauli basis and outputs a dictionary which maps the Stokes parameter index to the corresponding value.\n",
    "\n",
    "This function is used in simulations and can be used in sanity checks.\n",
    "\n",
    "Akin to 'compute_probabilities1', now just for two qubits."
   ]
  },
  {
   "cell_type": "code",
   "execution_count": null,
   "metadata": {},
   "outputs": [],
   "source": [
    "def compute_probabilities2(rho, should_print_description = False):\n",
    "\n",
    "    assoc = {}\n",
    "\n",
    "    if should_print_description:\n",
    "        print(f\"For starting state rho = {rho}:\\n\")\n",
    "    \n",
    "    for j in range(1, len(integer_to_state_string_map2) + 1):\n",
    "        answer = np.round(np.trace(rho @ ketbradiag(integer_to_state_ket_map2[j])), decimals=7)\n",
    "\n",
    "        if not np.isclose(answer.imag, 0.0):\n",
    "            raise ValueError(f\"The probability value {anwser} should have an imaginary part of 0.\")\n",
    "        else:\n",
    "            answer = answer.real\n",
    "\n",
    "        if should_print_description:\n",
    "            print(f\"{j}: Probability of measuring state {integer_to_state_string_map2[j]} (which is made using gate {make_state_from_ground_map2[j]} from |0>): {answer}\\n\")\n",
    "        \n",
    "        assoc[j] = answer\n",
    "    \n",
    "    return assoc        "
   ]
  },
  {
   "cell_type": "markdown",
   "metadata": {},
   "source": [
    "Given an input dictionary with keys corresponding to the integers of the thirty-six two-qubit cardinal Bloch sphere states (as in the dictionary 'integer_to_state_string_map2') and the values corresponding with the probability of measuring the corresponding Bloch sphere states, the following function computes a dictionary of the 16 Stokes parameters (using the information from the 'stokes_index_to_projector_combinations_map2' map above).\n",
    "\n",
    "If one has experimental data corresponding with the probabilities of measuring the thirty-six Bloch sphere states for a given arbitrary two-qubit state, formatted into a dictionary format, the following computes the Stokes parameters.\n",
    "\n",
    "Akin to 'compute_stokes_parameters1'."
   ]
  },
  {
   "cell_type": "code",
   "execution_count": null,
   "metadata": {},
   "outputs": [],
   "source": [
    "def compute_stokes_parameters2(state_to_prob_map, should_print_description = False):\n",
    "\n",
    "    param = 0\n",
    "    assoc = {}\n",
    "\n",
    "    func = lambda x: state_to_prob_map[x]\n",
    "\n",
    "    for j in range(len(stokes_index_to_projector_combinations_map2)):\n",
    "\n",
    "        param = sum(list(map(func, stokes_index_to_projector_combinations_map2[j][0]))) - sum(list(map(func, stokes_index_to_projector_combinations_map2[j][1])))\n",
    "\n",
    "        if should_print_description:\n",
    "            print(f\"Stokes S{j} parameter: {param}\\n\")\n",
    "        \n",
    "        assoc[f\"S{j}\"] = param\n",
    "    \n",
    "    return assoc"
   ]
  },
  {
   "cell_type": "markdown",
   "metadata": {},
   "source": [
    "Given a dictionary of Stokes parameters, the following reconstructs the inferred two-qubit density matrix."
   ]
  },
  {
   "cell_type": "code",
   "execution_count": null,
   "metadata": {},
   "outputs": [],
   "source": [
    "def reconstruct_state2(stokes_assoc):\n",
    "\n",
    "    state = 0.0 + 0.0*1j\n",
    "\n",
    "    for j in range(len(stokes_assoc)):\n",
    "\n",
    "        state += 0.25 * stokes_assoc[f\"S{j}\"] * stokes_index_to_pauli2[j]\n",
    "    \n",
    "    return state"
   ]
  },
  {
   "cell_type": "markdown",
   "metadata": {},
   "source": [
    "### Two qubit example"
   ]
  },
  {
   "cell_type": "markdown",
   "metadata": {},
   "source": [
    "Two qubit state $\\rho$ to perform state tomography on."
   ]
  },
  {
   "cell_type": "code",
   "execution_count": null,
   "metadata": {},
   "outputs": [],
   "source": [
    "rho = np.array([[1,0,0,0],[0,0,0,0],[0,0,0,0],[0,0,0,0]])"
   ]
  },
  {
   "cell_type": "markdown",
   "metadata": {},
   "source": [
    "Compute the probabilities of measuring the thirty-six cardinal Bloch sphere states after repeated measurements on an ensemble of identical states $\\rho$."
   ]
  },
  {
   "cell_type": "code",
   "execution_count": null,
   "metadata": {},
   "outputs": [],
   "source": [
    "state_probabilities = compute_probabilities2(rho, should_print_description)\n",
    "state_probabilities"
   ]
  },
  {
   "cell_type": "markdown",
   "metadata": {},
   "source": [
    "In the lab, we may not know what the state $\\rho$ is, so \"compute_probabilities2\" simply simulated measurements, given this input state $\\rho$ above.\n",
    "\n",
    "In practice, for an unknown state, we simply need to form a dictionary of probabilities (which are collected experimentally), similar to the one outputted by the above \"state_probabilities\" variable, by taking measurements according to the printed description.\n",
    "\n",
    "This then gets fed into the \"compute_stokes_parameters2\" function below."
   ]
  },
  {
   "cell_type": "code",
   "execution_count": null,
   "metadata": {},
   "outputs": [],
   "source": [
    "stokes_params = compute_stokes_parameters2(state_probabilities, should_print_description)\n",
    "stokes_params"
   ]
  },
  {
   "cell_type": "markdown",
   "metadata": {},
   "source": [
    "Use the Stokes parameters above, which were derived from various combinations of the experimental measurement probabilities in the dictionary, to reconstruct the density matrix state."
   ]
  },
  {
   "cell_type": "code",
   "execution_count": null,
   "metadata": {},
   "outputs": [],
   "source": [
    "reconstruct_state2(stokes_params)"
   ]
  },
  {
   "cell_type": "markdown",
   "metadata": {},
   "source": [
    "## Quantum Process Tomography"
   ]
  },
  {
   "cell_type": "markdown",
   "metadata": {},
   "source": [
    "The following cells discuss standard quantum process tomography; Refs 2 and 3 were consulted when the theory was worked out for these sections."
   ]
  },
  {
   "cell_type": "markdown",
   "metadata": {},
   "source": [
    "### Standard Process Tomography Setup\n",
    "\n",
    "In the $\\chi$ process matrix formalism, the dynamics of any open quantum system's density matrix $\\rho$, under the action of a CP linear map $\\varepsilon$ (the 'process'), is given by:\n",
    "\n",
    "\\begin{equation} \\tag{1}\n",
    "\\varepsilon(\\rho) = \\sum_{m,n = 0}^{d^2 - 1} \\chi_{mn} E_m \\rho E_n^{\\dagger},\n",
    "\\end{equation}\n",
    "\n",
    "where $\\{ E_m \\}_{m=0}^{d^2 - 1}$ is an orthogonal Hermitian operator basis (satisfying $\\text{Tr}(E_m^{\\dagger}E_n) = d\\delta_{mn}$ and $E_m = E_m^{\\dagger}$), and $d=2^{N}$ with $N$ the number of qubits. From here onwards, we choose the basis to be that of the Pauli basis, $\\{ I, X, Y, Z \\}^{\\otimes N}$. Note that this $\\chi$ process matrix formalism is only one way of describing an open quantum system's dynamics; the interested reader should consult Ref 3 for other formulations.\n",
    "\n",
    "The matrix $\\chi$ completely characterises the process with respect to the basis (here the Pauli basis). For example, if the process is completely unitary, $\\chi$ is generally rank 1 and $\\varepsilon$ reduces to $\\varepsilon(\\rho) = \\sum_{m,n = 0}^{d^2 - 1} \\chi_{mn} E_m \\rho E_n^{\\dagger} \\to U \\rho U^{\\dagger}$ for some unitary $U$. However, $\\varepsilon$ is, in general, more general; when one implements an operation (which is ideally unitary in theory) on a real-world device, the operation and device itself are also subject to coherent noise (such as imperfections in pulse calibrations) and incoherent noise (qubit decay and dephasing, for example). $\\varepsilon$ encompasses the unitary operation as well as these sources of noise.\n",
    "\n",
    "Process tomography concerns itself with determining the matrix $\\chi$. To do so, we need to prepare a set of tomographically complete input states, subject them to the process, and then perform a tomographically complete set of measurements. In our case, we consider standard quantum process tomography, where an over-complete set of measurements are taken, but with the mathematics being arguably easier to follow. We choose the set of tomographically complete input \"states\" to be the Pauli operators $\\{ E_n \\}$ and subject them all to the process by taking ensembles of measurements, so in other words, we prepare $\\varepsilon(E_s) = \\sum_{m,n = 0}^{d^2 - 1} \\chi_{mn} E_m E_s E_n^{\\dagger}$ for $s \\in \\{ 0, 1, \\cdots, d^2 - 1 \\}$. Furthermore, we also measure the same set, with these $E_t$ playing the role of \"observables\". So, we measure $E_t$, which for an input \"state\" $E_s$, gives $m_{st}$, where\n",
    "\n",
    "\\begin{equation} \\tag{2}\n",
    "m_{st} = \\text{Tr}(E^{\\dagger}_t\\varepsilon(E_s)) = \\sum_{m,n = 0}^{d^2 - 1} \\chi_{mn} \\text{Tr}(E^{\\dagger}_t E_m E_s E_n^{\\dagger}).\n",
    "\\end{equation}\n",
    "\n",
    "Note that $\\text{Tr}(E^{\\dagger}_t E_m E_s E_n^{\\dagger})$ is a constant that clearly doesn't depend on experimental data but only the chosen basis (which, as mentioned, for both the input state and the measurement observable, is the Pauli basis); $P_{stmn} = \\text{Tr}(E^{\\dagger}_t E_m E_s E^{\\dagger}_n)$, for $s, t, m, n \\in \\{ 0, 1, \\cdots, d^2 - 1 \\}$.\n",
    "\n",
    "However, we cannot truly prepare the states $\\{ E_m \\}$ in the lab since they are not true qubit(s) quantum states (for example, $\\text{Tr}(E_m) = 0$ when $E_m$ is a Pauli operator that's not the identity). The set $\\{ E_m \\}$ are also not true projectors, since $E_m^2 \\neq E_m$ in general. However, what is possible in the lab, and what is generally done, is we prepare one of the six(thirty-six) cardinal Bloch sphere states from qubit(s) initialised in their ground state(s). This state is then subject to the process represented by $\\chi$, and finally, we measure the probability of the qubit(s) being in one of these six(thirty-six) Bloch sphere states by changing the measurement basis right before measuring in the qubit(s) $Z$ bases. Let $\\mathcal{B} = \\{ I, X_{180}, Y_{90}, Y_{-90}, X_{-90}, X_{90} \\}$ be the set of six \"Bloch sphere\" operators which are used to prepare one of the six cardinal Bloch sphere states, and also change the measurement basis. We denote one of these six gates as $\\mathcal{B}_i$, where $i \\in \\{ 0, 1, 2, 3, 4, 5 \\}$."
   ]
  },
  {
   "cell_type": "markdown",
   "metadata": {},
   "source": [
    "### Tomography preamble"
   ]
  },
  {
   "cell_type": "markdown",
   "metadata": {},
   "source": [
    "Returns one of the six operators used to create the six cardinal points of the Bloch sphere from a qubit in the ground state (corresponds to $\\mathcal{B}_i$ in the above description)."
   ]
  },
  {
   "cell_type": "code",
   "execution_count": null,
   "metadata": {},
   "outputs": [],
   "source": [
    "def func_B(n: int):\n",
    "    \n",
    "    match n:\n",
    "        case 0: # identity\n",
    "            return i\n",
    "        case 1: # X180/Y180\n",
    "            return x\n",
    "        case 2: # Y90\n",
    "            return y90\n",
    "        case 3: # Y-90\n",
    "            return ym90\n",
    "        case 4: # X-90\n",
    "            return xm90\n",
    "        case 5: # X90\n",
    "            return x90\n",
    "        case _: # Error\n",
    "            raise ValueError(\"Input integer should be between 0 and 5, inclusive\")"
   ]
  },
  {
   "cell_type": "markdown",
   "metadata": {},
   "source": [
    "Maps an integer index to either the identity or a Pauli operator."
   ]
  },
  {
   "cell_type": "code",
   "execution_count": null,
   "metadata": {},
   "outputs": [],
   "source": [
    "index_to_pauli_string_process1 = {\n",
    "    0: \"I\",\n",
    "    1: \"X\",\n",
    "    2: \"Y\",\n",
    "    3: \"Z\"\n",
    "}"
   ]
  },
  {
   "cell_type": "markdown",
   "metadata": {},
   "source": [
    "Helper function used in 'describe_pauli_state_creation_from_ground_state_process1'; maps Bloch sphere state integer to a list, where the first element of the list is a string representing the Bloch sphere rotation operator needed to create the Bloch sphere state from $\\left | 0 \\right >$, and the second element the matrix representation of that operator"
   ]
  },
  {
   "cell_type": "code",
   "execution_count": null,
   "metadata": {},
   "outputs": [],
   "source": [
    "make_state_from_ground_map_process1 = {\n",
    "    0: [\"I\", func_B(0)],\n",
    "    1: [\"X180/Y180\", func_B(1)],\n",
    "    2: [\"Y90\", func_B(2)],\n",
    "    3: [\"Y-90\", func_B(3)],\n",
    "    4: [\"X-90\", func_B(4)],\n",
    "    5: [\"X90\", func_B(5)],\n",
    "}"
   ]
  },
  {
   "cell_type": "markdown",
   "metadata": {},
   "source": [
    "Helper function used in 'describe_pauli_state_creation_from_ground_state_process1'; maps an index corresponding to the Pauli operator to a list, where each element of the list is a list whereby the first element the coefficient, and the second element the Bloch sphere operator index needed to create the corresponding Bloch sphere state from the qubit ground state. Elements of the list are summed over, with the appropriate coefficient, to create the Pauli operator from combinations of Bloch sphere states"
   ]
  },
  {
   "cell_type": "code",
   "execution_count": null,
   "metadata": {},
   "outputs": [],
   "source": [
    "index_to_from_ground_state_combinations_process1 = {\n",
    "    0: [[1,0], [1,1]],\n",
    "    1: [[-(1 + 1j), 0], [-(1 + 1j), 1], [2, 2], [1j, 4], [1j, 5]],\n",
    "    2: [[1, 4], [-1, 5]],\n",
    "    3: [[1, 0], [-1, 1]]\n",
    "}"
   ]
  },
  {
   "cell_type": "markdown",
   "metadata": {},
   "source": [
    "Helper function that simply describes how to create the Pauli input state from combinations of Bloch sphere states (using the above helper functions)"
   ]
  },
  {
   "cell_type": "code",
   "execution_count": null,
   "metadata": {},
   "outputs": [],
   "source": [
    "def describe_pauli_state_creation_from_ground_state_process1(should_print_description):\n",
    "\n",
    "    if should_print_description:\n",
    "        print(f\"For a single qubit, to create a Pauli input state from linear combinations of Bloch sphere operators acting on the ground state |0>:\\n\")\n",
    "    \n",
    "    for k in range(len(index_to_from_ground_state_combinations_process1)):\n",
    "\n",
    "        if should_print_description:\n",
    "\n",
    "            temp_string = \"\"\n",
    "            temp_list = index_to_from_ground_state_combinations_process1[k]\n",
    "\n",
    "            for j in range(len(temp_list)):\n",
    "                temp_string = temp_string + str(temp_list[j][0]) + \" x \" + str(make_state_from_ground_map_process1[temp_list[j][1]][0]) + \"|0><0|(\" + str(make_state_from_ground_map_process1[temp_list[j][1]][0]) + \")^† + \"\n",
    "            \n",
    "            temp_string = temp_string[:-3]\n",
    "\n",
    "            print(f\"{k}: {index_to_pauli_string_process1[k]} = {temp_string}\")\n"
   ]
  },
  {
   "cell_type": "code",
   "execution_count": null,
   "metadata": {},
   "outputs": [],
   "source": [
    "describe_pauli_state_creation_from_ground_state_process1(True)"
   ]
  },
  {
   "cell_type": "markdown",
   "metadata": {},
   "source": [
    "### Single qubit functions"
   ]
  },
  {
   "cell_type": "markdown",
   "metadata": {},
   "source": [
    "#### Single qubit case\n",
    "\n",
    "For a single qubit, preparing Bloch state $\\mathcal{B}_i \\left | 0 \\right >$, subjecting the qubit to the process represented by $\\chi$, changing basis using $\\mathcal{B}_j$ and then measuring the probability of finding the qubit in the ground state $\\left | 0 \\right >$, gives the probability $\\lambda_{ij}$, where\n",
    "\n",
    "\\begin{equation} \\tag{3}\n",
    "\\lambda_{ij} = \\sum_{m,n = 0}^{d^2 - 1} \\chi_{mn} \\text{Tr}( \\mathcal{B}^{\\dagger}_j\\left | 0 \\right > \\left < 0 \\right | \\mathcal{B}_j E_m \\mathcal{B}_i\\left | 0 \\right > \\left < 0 \\right | \\mathcal{B}^{\\dagger}_i E^{\\dagger}_n),\n",
    "\\end{equation}\n",
    "\n",
    "for $i, j \\in \\{ 0, 1, 2, 3, 4, 5  \\}$. Note that $\\text{Tr}( \\mathcal{B}^{\\dagger}_j\\left | 0 \\right > \\left < 0 \\right | \\mathcal{B}_j E_m \\mathcal{B}_i\\left | 0 \\right > \\left < 0 \\right | \\mathcal{B}^{\\dagger}_i E^{\\dagger}_n)$ is also a constant independent of any experimental data. We represent it as $B_{ijmn} = \\text{Tr}( \\mathcal{B}^{\\dagger}_j\\left | 0 \\right > \\left < 0 \\right | \\mathcal{B}_j E_m \\mathcal{B}_i\\left | 0 \\right > \\left < 0 \\right | \\mathcal{B}^{\\dagger}_i E^{\\dagger}_n)$.\n",
    "\n",
    "These measurements $\\lambda_{ij}$, in terms of the Bloch sphere states, are what we observe in the lab. However, we have chosen to describe the $\\chi$ matrix formalism in terms of the Pauli basis. Thankfully, we can exploit the linearity of the $\\varepsilon$ process and map results from the Bloch state case to the Pauli basis by taking linear combinations of Bloch sphere state measurements. In other words, we need to express each Pauli matrix $E_m$ as a linear combination of Bloch sphere states $\\mathcal{B}_i\\left | 0 \\right > \\left < 0 \\right | \\mathcal{B}^{\\dagger}_i$. This is simple enough to do; the coefficients $c_{mi}$, are such that\n",
    "\n",
    "\\begin{equation} \\tag{4}\n",
    "E_m = \\sum_{i=0}^5 c_{mi} \\mathcal{B}_i \\left | 0 \\right > \\left < 0 \\right | \\mathcal{B}^{\\dagger}_i,\n",
    "\\end{equation}\n",
    "\n",
    "are unique and listed below. Using this, we can map $B_{ijmn}$ to $P_{stmn}$ as\n",
    "\n",
    "\\begin{equation} \\tag{5}\n",
    "P_{stmn} = \\sum_{i, j=0}^5 c_{si} c^{*}_{tj} B_{ijmn}.\n",
    "\\end{equation}\n",
    "\n",
    "There is also a mapping between Bloch state measurement data, $\\lambda_{ij}$, to Pauli state measurements, $m_{st}$, via\n",
    "\n",
    "\\begin{equation} \\tag{6}\n",
    "m_{st} = \\sum_{m,n = 0}^{d^2 - 1} \\chi_{mn} P_{stmn} = \\sum_{m,n = 0}^{d^2 - 1} \\chi_{mn} \\sum_{i, j=0}^5 c_{si} c^{*}_{tj} B_{ijmn} = \\sum_{i, j=0}^5 c_{si} c^{*}_{tj} \\lambda_{ij}\n",
    "\\end{equation}\n",
    "\n",
    "\n",
    "We have all of the logic needed to perform single qubit process tomography:\n",
    "\n",
    "1. Collect measurement data $\\lambda_{ij}$ from the lab corresponding to preparing Bloch state $i$ and measuring Bloch state $j$\n",
    "2. Map this data to the Pauli basis $m_{st}$ using Eq. 6\n",
    "3. Solve Eq. 2, i.e. $m_{st} = \\sum_{m,n = 0}^{d^2 - 1} \\chi_{mn} P_{stmn}$, for $\\chi$"
   ]
  },
  {
   "cell_type": "markdown",
   "metadata": {},
   "source": [
    "Below, `func_E(i)` corresponds with $E_i$, and `func_c(s, i)` with $c_{si}$"
   ]
  },
  {
   "cell_type": "code",
   "execution_count": null,
   "metadata": {},
   "outputs": [],
   "source": [
    "def func_E(n: int):\n",
    "    # four single qubit Pauli operators\n",
    "    match n:\n",
    "        case 0: # identity\n",
    "            return i\n",
    "        case 1: # X\n",
    "            return x\n",
    "        case 2: # Y\n",
    "            return y\n",
    "        case 3: # Z\n",
    "            return z\n",
    "        case _:\n",
    "            raise ValueError(\"Input integer should be between 0 and 3, inclusive\")\n",
    "\n",
    "@functools.lru_cache()\n",
    "def func_c(s: int, i: int):\n",
    "    # Constants func_c(s,i) such that\n",
    "    # func_E(s) = sum_{i=0}^5 func_c(s,i) func_B(i)|0><0|func_B^{\\dagger}(i)\n",
    "    match (s, i):\n",
    "        case (0,0):\n",
    "            return 1\n",
    "        case (0,1):\n",
    "            return 1\n",
    "        case (1,0):\n",
    "            return -(1 + 1j)\n",
    "        case (1,1):\n",
    "            return -(1 + 1j)\n",
    "        case (1,2):\n",
    "            return 2\n",
    "        case (1,4):\n",
    "            return 1j\n",
    "        case (1,5):\n",
    "            return 1j\n",
    "        case (2,4):\n",
    "            return 1\n",
    "        case (2,5):\n",
    "            return -1\n",
    "        case (3,0):\n",
    "            return 1\n",
    "        case (3,1):\n",
    "            return -1\n",
    "        case _:\n",
    "            return 0"
   ]
  },
  {
   "cell_type": "markdown",
   "metadata": {},
   "source": [
    "For any single qubit input state $\\rho$, the following decomposes $\\rho$ into the Pauli operator basis $E_i$"
   ]
  },
  {
   "cell_type": "code",
   "execution_count": null,
   "metadata": {},
   "outputs": [],
   "source": [
    "def decompose_state_into_pauli_basis_process1(rho, should_print_description = False):\n",
    "\n",
    "    if not ishermitian(rho):\n",
    "        print(f\"Matrix rho is not Hermitian\")\n",
    "    else:\n",
    "        if not is_pos_semidef(rho):\n",
    "            print(f\"Matrix rho is not positive semi-definite\")\n",
    "    if not np.isclose(np.trace(rho), 1.0):\n",
    "        print(\"Matrix rho is not normalised\")\n",
    "    \n",
    "    coefficients = []\n",
    "\n",
    "    if should_print_description:\n",
    "        print(\"Input state rho decomposed in the Pauli basis E(i), i.e. rho = \\sum a(i)E(i) is:\\n\")\n",
    "    \n",
    "    for j in range(len(rho[0])**2):\n",
    "        result = 0.5 * np.trace((func_E(j).conj().T) @ rho)\n",
    "\n",
    "        if not np.isclose(result.imag, 0.0):\n",
    "            raise ValueError(f\"Result {result} should have no imaginary part\")\n",
    "        else:\n",
    "            result = result.real\n",
    "\n",
    "        coefficients.append(result)\n",
    "\n",
    "        if should_print_description:\n",
    "            print(f\"{j}) a({j}) = 1/2 * Tr[E({j}).rho] = {result}\")\n",
    "    \n",
    "    return coefficients"
   ]
  },
  {
   "cell_type": "markdown",
   "metadata": {},
   "source": [
    "Test for $\\rho = \\left | 0 \\right > \\left < 0 \\right |$"
   ]
  },
  {
   "cell_type": "code",
   "execution_count": null,
   "metadata": {},
   "outputs": [],
   "source": [
    "rho_test = np.array([[1,0],[0,0]])\n",
    "\n",
    "decompose_state_into_pauli_basis_process1(rho_test, True)"
   ]
  },
  {
   "cell_type": "markdown",
   "metadata": {},
   "source": [
    "For an input $j$, describes decomposing an input Pauli operator $E_j$ into a linear combination of single qubit Bloch sphere states $\\mathcal{B}_i \\left | 0 \\right > \\left < 0 \\right | \\mathcal{B}^{\\dagger}_i$"
   ]
  },
  {
   "cell_type": "code",
   "execution_count": null,
   "metadata": {},
   "outputs": [],
   "source": [
    "def describe_decomposing_pauli_operator_into_rank_1_bloch_state1(j, should_print_description):\n",
    "\n",
    "    if should_print_description:\n",
    "        print(f\"Input Pauli operator E({j}) decomposed into the rank 1 Bloch sphere states, i.e. E({j}) = \\sum c({j},i)F(i)|0><0|F(i)^dagger, is:\\n\")\n",
    "    \n",
    "    for k in range(6):\n",
    "\n",
    "        if should_print_description:\n",
    "            print(f\"{k}) Coefficient of F({k}) term is: c({j},{k}) = {func_c(j, k)}\\n\")"
   ]
  },
  {
   "cell_type": "code",
   "execution_count": null,
   "metadata": {},
   "outputs": [],
   "source": [
    "describe_decomposing_pauli_operator_into_rank_1_bloch_state1(1, True)"
   ]
  },
  {
   "cell_type": "markdown",
   "metadata": {},
   "source": [
    "Helper function to check the math"
   ]
  },
  {
   "cell_type": "code",
   "execution_count": null,
   "metadata": {},
   "outputs": [],
   "source": [
    "def reconstruct_pauli_from_rank_1_bloch_states1(j):\n",
    "\n",
    "    answer = 0.0 + 0.0*1j\n",
    "\n",
    "    for k in range(6):\n",
    "        answer += func_c(j, k) * (func_B(k) @ np.array([[1,0],[0,0]]) @ (func_B(k).conj().T))\n",
    "    \n",
    "    return answer\n",
    "\n",
    "def check_EC_mapping(j):\n",
    "\n",
    "    reconstructed_operator = reconstruct_pauli_from_rank_1_bloch_states1(j)\n",
    "\n",
    "    if not np.allclose(reconstructed_operator, func_E(j)):\n",
    "\n",
    "        result = False\n",
    "\n",
    "        print(f\"Reconstruction for operator E({j}) failed!\\n\")\n",
    "    \n",
    "    else:\n",
    "        result = True\n",
    "\n",
    "        print(f\"Reconstruction for operator E({j}) passed!\\n\")\n",
    "    \n",
    "    return result\n",
    "\n",
    "for j in range(4):\n",
    "\n",
    "    check_EC_mapping(j)"
   ]
  },
  {
   "cell_type": "markdown",
   "metadata": {},
   "source": [
    "Corresponds to $B_{ijmn}$ in Eq. 3 above"
   ]
  },
  {
   "cell_type": "code",
   "execution_count": null,
   "metadata": {},
   "outputs": [],
   "source": [
    "def B_Bloch(i, j, m, n):\n",
    "\n",
    "    # start from qubit ground state, create one of six Bloch sphere states\n",
    "    # using func_B, add Pauli operator basis states func_E, and measure one\n",
    "    # of the six Bloch sphere state projectors,\n",
    "    # func_B(.)^{\\dagger} |0><0| func_B(.). These constants appear when expressing\n",
    "    # the Pauli states in terms of combinations of Bloch sphere states,\n",
    "    # assuming you start from the qubit ground state\n",
    "\n",
    "    starting_state = np.array([[1,0],[0,0]])\n",
    "    bloch_state = func_B(i) @ starting_state @ (func_B(i).conj().T)\n",
    "    add_paulis = func_E(m) @ bloch_state @ (func_E(n).conj().T)\n",
    "    measure_bloch_state = (func_B(j).conj().T) @ starting_state @ func_B(j) @ add_paulis\n",
    "\n",
    "    return measure_bloch_state.trace()"
   ]
  },
  {
   "cell_type": "markdown",
   "metadata": {},
   "source": [
    "Corresponds to $P_{stmn}$ in Eq. 2 above, and explicitly performs the mapping of Eq. 5"
   ]
  },
  {
   "cell_type": "code",
   "execution_count": null,
   "metadata": {},
   "outputs": [],
   "source": [
    "def P_Pauli(s, t, m, n):\n",
    "\n",
    "    result = 0\n",
    "\n",
    "    for i in range(0, 6):\n",
    "        for j in range(0, 6):\n",
    "            result += func_c(s, i) * np.conj(func_c(t, j)) * B_Bloch(i, j, m, n)\n",
    "\n",
    "    return result.round(8)"
   ]
  },
  {
   "cell_type": "markdown",
   "metadata": {},
   "source": [
    "Prints out a description of Eq 5 per index"
   ]
  },
  {
   "cell_type": "code",
   "execution_count": null,
   "metadata": {},
   "outputs": [],
   "source": [
    "def convert_Matrix_from_bloch_to_pauli(should_print_description):\n",
    "\n",
    "    if should_print_description:\n",
    "\n",
    "        print(f\"The P matrix, converted from the B matrix (i.e. from Bloch states to Paulis), is:\\n\")\n",
    "    \n",
    "        for k in range(4):\n",
    "            for l in range(4):\n",
    "                for m in range(4):\n",
    "                    for n in range(4):\n",
    "                        print(f\"The matrix element Tr[E^dagger({k})E({m})E({l})E^dagger({n})] is: P({l},{k},{m},{n}) = {P_Pauli(l, k, m, n)}\")"
   ]
  },
  {
   "cell_type": "code",
   "execution_count": null,
   "metadata": {},
   "outputs": [],
   "source": [
    "convert_Matrix_from_bloch_to_pauli(True)"
   ]
  },
  {
   "cell_type": "markdown",
   "metadata": {},
   "source": [
    "Reshapes $P_{stmn}$ into a 2D matrix (used to solve Eq. 2)"
   ]
  },
  {
   "cell_type": "code",
   "execution_count": null,
   "metadata": {},
   "outputs": [],
   "source": [
    "PMatrix = np.array([[P_Pauli(np.floor(v/4).astype(int), v % 4, np.floor(w/4).astype(int), w % 4) for w in range(16)] for v in range(16)]).round(8)"
   ]
  },
  {
   "cell_type": "markdown",
   "metadata": {},
   "source": [
    "### Single qubit example: amplitude damping"
   ]
  },
  {
   "cell_type": "markdown",
   "metadata": {},
   "source": [
    "Simulate the amplitude damping noise channel on a single qubit, with probability to damp, $p$, equal to 13% (see Ref 3)"
   ]
  },
  {
   "cell_type": "code",
   "execution_count": null,
   "metadata": {},
   "outputs": [],
   "source": [
    "p = 0.13\n",
    "\n",
    "k0 = np.array([[1, 0],[0, np.sqrt(1-p)]])\n",
    "k1 = np.array([[0, np.sqrt(p)],[0, 0]])"
   ]
  },
  {
   "cell_type": "markdown",
   "metadata": {},
   "source": [
    "The damping process itself, in terms of Kraus operators"
   ]
  },
  {
   "cell_type": "code",
   "execution_count": null,
   "metadata": {},
   "outputs": [],
   "source": [
    "def damping(rho):\n",
    "\n",
    "    return (k0 @ rho @ (k0.conj().T)) + (k1 @ rho @ (k1.conj().T))"
   ]
  },
  {
   "cell_type": "markdown",
   "metadata": {},
   "source": [
    "Initialise empty Bloch sphere basis measurement array 'lamb' (corresponding to $\\lambda$), and Pauli basis array 'm' (corresponding to $m$)"
   ]
  },
  {
   "cell_type": "code",
   "execution_count": null,
   "metadata": {},
   "outputs": [],
   "source": [
    "m = np.empty((4, 4))\n",
    "lamb = np.empty((6, 6))"
   ]
  },
  {
   "cell_type": "markdown",
   "metadata": {},
   "source": [
    "Simulate the process of performing single qubit process tomography for the input 'process', by preparing and measuring the complete set of Bloch sphere states"
   ]
  },
  {
   "cell_type": "code",
   "execution_count": null,
   "metadata": {},
   "outputs": [],
   "source": [
    "def simulate_process_tomography_measurements_with_input_bloch_states_and_measuring_bloch_projectors(process, should_print_description):\n",
    "\n",
    "    for i in range(6):\n",
    "        for j in range(6):\n",
    "\n",
    "            rho = np.array([[1, 0], [0, 0]])\n",
    "\n",
    "            rho = func_B(i) @ rho @ (func_B(i).conj().T)\n",
    "\n",
    "            rho = process(rho)\n",
    "\n",
    "            rho = (func_B(j).conj().T) @ np.array([[1, 0], [0, 0]]) @ func_B(j) @ rho\n",
    "\n",
    "            res = np.trace(rho)\n",
    "\n",
    "            if not np.isclose(res.imag, 0.0):\n",
    "                raise ValueError(f\"Result {res} should have no imaginary part\")\n",
    "            else:\n",
    "                res = res.real\n",
    "\n",
    "            lamb[i, j] = res\n",
    "\n",
    "            if should_print_description:\n",
    "\n",
    "                print(f\"Measurement result of input process for the input state F({i})|0> and Bloch projector F({j})|0><0|Fdag({j}) = {lamb[i, j]}\\n\")"
   ]
  },
  {
   "cell_type": "code",
   "execution_count": null,
   "metadata": {},
   "outputs": [],
   "source": [
    "simulate_process_tomography_measurements_with_input_bloch_states_and_measuring_bloch_projectors(damping, True)"
   ]
  },
  {
   "cell_type": "markdown",
   "metadata": {},
   "source": [
    "For a given input Bloch sphere measuremenet matrix (here called 'lamb'), describes the corresponding Pauli measurement matrix (here 'm')"
   ]
  },
  {
   "cell_type": "code",
   "execution_count": null,
   "metadata": {},
   "outputs": [],
   "source": [
    "def map_from_bloch_state_measurements_to_pauli(arr, should_print_description):\n",
    "\n",
    "    if arr.shape != (6, 6):\n",
    "        raise ValueError(\"Input array must be 6x6\")\n",
    "    \n",
    "    if should_print_description:\n",
    "        print(f\"For the Bloch states' measurements, the Pauli basis m measurement matrix's elements are:\\n\")\n",
    "\n",
    "    for k in range(4):\n",
    "        for l in range(4):\n",
    "\n",
    "            result = 0\n",
    "    \n",
    "            for i in range(0, 6):\n",
    "                for j in range(0, 6):\n",
    "                    result += func_c(l, i) * np.conj(func_c(k, j)) * arr[i][j]\n",
    "            \n",
    "            if not np.isclose(result.imag, 0.0):\n",
    "                raise ValueError(f\"Result {result} should have no imaginary part\")\n",
    "            else:\n",
    "                result = result.real\n",
    "            \n",
    "            m[l, k] = result\n",
    "            \n",
    "            if should_print_description:\n",
    "                print(f\"If the Pauli state E({l}) were prepared and the Pauli observable E({k}) measured, the measured value would be: Tr(E^(dagger)({k})ε(E({l}))) = m({l},{k}) = {result}\")"
   ]
  },
  {
   "cell_type": "code",
   "execution_count": null,
   "metadata": {},
   "outputs": [],
   "source": [
    "map_from_bloch_state_measurements_to_pauli(lamb, True)"
   ]
  },
  {
   "cell_type": "markdown",
   "metadata": {},
   "source": [
    "Reshapes Pauli measurement matrix 'm' into a 1D vector."
   ]
  },
  {
   "cell_type": "code",
   "execution_count": null,
   "metadata": {},
   "outputs": [],
   "source": [
    "measurement_vector = np.array([m[np.floor(v/4).astype(int), v % 4] for v in range(16)])"
   ]
  },
  {
   "cell_type": "markdown",
   "metadata": {},
   "source": [
    "Solves Eq. 2 for $\\chi$ in a vectorised form, and reshapes the vector into the $\\chi_{mn}$ matrix"
   ]
  },
  {
   "cell_type": "code",
   "execution_count": null,
   "metadata": {},
   "outputs": [],
   "source": [
    "chi_vector = solve(PMatrix, measurement_vector)\n",
    "chi_matrix = chi_vector.reshape(4,4)"
   ]
  },
  {
   "cell_type": "markdown",
   "metadata": {},
   "source": [
    "Plot the $\\chi$ matrix"
   ]
  },
  {
   "cell_type": "code",
   "execution_count": null,
   "metadata": {},
   "outputs": [],
   "source": [
    "def plot_process_tomography(chi_vector, save_file: str = None):\n",
    "\n",
    "    plt.rcParams['text.usetex'] = True\n",
    "\n",
    "    cmap = colormaps.get_cmap('viridis')\n",
    "\n",
    "    # set up figure\n",
    "    fig = plt.figure(figsize=(9, 3), dpi=250, facecolor=\"white\")\n",
    "    ax = fig.add_subplot(111, projection='3d')\n",
    "\n",
    "    # coordinates\n",
    "    r = np.arange(4)\n",
    "    _x, _y = np.meshgrid(r, r)\n",
    "    x, y = _x.ravel(), _y.ravel()\n",
    "\n",
    "    values0 = np.abs(chi_vector)\n",
    "    values1 = np.angle(chi_vector)\n",
    "\n",
    "    top = values0\n",
    "    bottom = np.zeros_like(top)\n",
    "\n",
    "    width = depth = 0.7\n",
    "\n",
    "    norm = Normalize(vmin=-np.pi, vmax=np.pi)\n",
    "    colors = cmap(norm(values1))\n",
    "\n",
    "    xy_ticks_labels = [r\"$I$\", r\"$X$\", r\"$Y$\", r\"$Z$\"]\n",
    "\n",
    "    subplot = ax.bar3d(x, y, bottom, width, depth, top, shade=True, color=colors)\n",
    "    ax.set_xticks(r + 0.5, labels=xy_ticks_labels)\n",
    "    ax.set_yticks(r + 0.5, labels=xy_ticks_labels)\n",
    "    ax.set_zticks([0, (max(top)/2).round(2), max(top).round(2)])\n",
    "    ax.set_xlabel(\"Prepared\", fontdict = axisfont)\n",
    "    ax.set_ylabel(\"Measured\", fontdict = axisfont)\n",
    "    ax.set_title(r'$\\chi$ matrix', fontdict = titlefont)\n",
    "    ax.view_init(20, -60, 0)\n",
    "\n",
    "    sc = cm.ScalarMappable(cmap=cmap,norm=norm)\n",
    "    cbar = plt.colorbar(sc, ax=ax, pad=0.1, shrink=0.7)\n",
    "    cbar.set_ticks(ticks=[-np.pi, -np.pi/2, 0, np.pi/2, np.pi], labels=[r\"$-\\pi$\", r\"$-\\pi/2$\", r\"0\", r\"$\\pi/2$\", r\"$\\pi$\"])\n",
    "\n",
    "    if save_file:\n",
    "        plt.savefig(save_file, bbox_inches='tight')\n",
    "\n",
    "    plt.show()"
   ]
  },
  {
   "cell_type": "code",
   "execution_count": null,
   "metadata": {},
   "outputs": [],
   "source": [
    "plot_process_tomography(chi_vector)"
   ]
  },
  {
   "cell_type": "markdown",
   "metadata": {},
   "source": [
    "Given the experimental $\\chi$ matrix, extract the predicted amplitude damping probability value, assuming only a perfect damplitude damping noise channel (again, see Ref 3)"
   ]
  },
  {
   "cell_type": "code",
   "execution_count": null,
   "metadata": {},
   "outputs": [],
   "source": [
    "predicted_prob = 1 - (np.sqrt(4*chi_matrix[0,0]) - 1)**2"
   ]
  },
  {
   "cell_type": "markdown",
   "metadata": {},
   "source": [
    "Compare the input and inferred values"
   ]
  },
  {
   "cell_type": "code",
   "execution_count": null,
   "metadata": {},
   "outputs": [],
   "source": [
    "np.isclose(predicted_prob, p)"
   ]
  },
  {
   "cell_type": "markdown",
   "metadata": {},
   "source": [
    "Check trace-preserving-ness: if $\\chi$ is trace-preserving, it must satisfy $\\sum_{m,n=0}^{d^2 - 1} \\chi_{mn} E_{n} E_m = I$"
   ]
  },
  {
   "cell_type": "code",
   "execution_count": null,
   "metadata": {},
   "outputs": [],
   "source": [
    "sum_of_terms = np.sum([chi_matrix[m, n] * func_E(n) @ func_E(m) for n in range(4) for m in range(4)], axis=0)"
   ]
  },
  {
   "cell_type": "code",
   "execution_count": null,
   "metadata": {},
   "outputs": [],
   "source": [
    "if np.allclose(sum_of_terms, np.eye(2)):\n",
    "    print(\"Process is trace preserving\")\n",
    "else:\n",
    "    print(\"Process is not trace preserving\")"
   ]
  },
  {
   "cell_type": "markdown",
   "metadata": {},
   "source": [
    "Given $\\chi$ matrix, compute the corresponding Kraus operators"
   ]
  },
  {
   "cell_type": "code",
   "execution_count": null,
   "metadata": {},
   "outputs": [],
   "source": [
    "def compute_kraus_operators(chi_matrix, should_print_description):\n",
    "\n",
    "    print(\"NOTE: NEED TO DEBUG THIS - CHECK WHETHER chi_matrix NEEDS TO BE UNITARY OR WHETHER THIS IS VALID REGARDLESS\")\n",
    "\n",
    "    kraus_operators = []\n",
    "\n",
    "    eigenvalues, eigenvectors = eig(chi_matrix)\n",
    "\n",
    "    if not np.allclose(eigenvectors @ (eigenvectors.conj().T), np.eye(4)):\n",
    "        print(\"Similarity matrix is not unitary!\")\n",
    "    \n",
    "    for m in range(4):\n",
    "        \n",
    "        operator = np.sqrt(eigenvalues[m]) * np.sum([eigenvectors[j, m]*func_E(j) for j in range(4)], axis=0)\n",
    "\n",
    "        if should_print_description and not np.allclose(operator, np.zeros((2,2))):\n",
    "            print(f\"Kraus operator for arbitrary index m = {m}: {operator}\")\n",
    "            kraus_operators.append(operator.round(6))\n",
    "    \n",
    "    return kraus_operators"
   ]
  },
  {
   "cell_type": "code",
   "execution_count": null,
   "metadata": {},
   "outputs": [],
   "source": [
    "compute_kraus_operators(chi_matrix, True)"
   ]
  },
  {
   "cell_type": "markdown",
   "metadata": {},
   "source": [
    "### Single qubit example: depolarisation"
   ]
  },
  {
   "cell_type": "markdown",
   "metadata": {},
   "source": [
    "New example: depolarisation noise channel with probability $p = 25\\%$ of having a completely mixed state (see Ref 3). See the previous example for explanations, as the only thing that changes in this example is the process itself.\n",
    "\n",
    "NOTE: you must run the previous example first to load some of the forthcoming functions"
   ]
  },
  {
   "cell_type": "code",
   "execution_count": null,
   "metadata": {},
   "outputs": [],
   "source": [
    "p = 0.25\n",
    "\n",
    "k0 = np.sqrt(1-3*p/4) * i\n",
    "k1 = np.sqrt(p)/2 * x\n",
    "k2 = np.sqrt(p)/2 * y\n",
    "k3 = np.sqrt(p)/2 * z"
   ]
  },
  {
   "cell_type": "code",
   "execution_count": null,
   "metadata": {},
   "outputs": [],
   "source": [
    "def depolarisation(rho):\n",
    "\n",
    "    return (k0 @ rho @ (k0.conj().T)) + (k1 @ rho @ (k1.conj().T)) + (k2 @ rho @ (k2.conj().T)) + (k3 @ rho @ (k3.conj().T))"
   ]
  },
  {
   "cell_type": "code",
   "execution_count": null,
   "metadata": {},
   "outputs": [],
   "source": [
    "m = np.empty((4, 4))\n",
    "lamb = np.empty((6, 6))"
   ]
  },
  {
   "cell_type": "code",
   "execution_count": null,
   "metadata": {},
   "outputs": [],
   "source": [
    "simulate_process_tomography_measurements_with_input_bloch_states_and_measuring_bloch_projectors(depolarisation, True)"
   ]
  },
  {
   "cell_type": "code",
   "execution_count": null,
   "metadata": {},
   "outputs": [],
   "source": [
    "map_from_bloch_state_measurements_to_pauli(lamb, True)"
   ]
  },
  {
   "cell_type": "code",
   "execution_count": null,
   "metadata": {},
   "outputs": [],
   "source": [
    "measurement_vector = np.array([m[np.floor(v/4).astype(int), v % 4] for v in range(16)])"
   ]
  },
  {
   "cell_type": "code",
   "execution_count": null,
   "metadata": {},
   "outputs": [],
   "source": [
    "chi_vector = solve(PMatrix, measurement_vector)\n",
    "chi_matrix = chi_vector.reshape(4,4)"
   ]
  },
  {
   "cell_type": "code",
   "execution_count": null,
   "metadata": {},
   "outputs": [],
   "source": [
    "plot_process_tomography(chi_vector)"
   ]
  },
  {
   "cell_type": "markdown",
   "metadata": {},
   "source": [
    "Given the experimental $\\chi$ matrix, extract the predicted depolarisation probability value, assuming only a perfect depolarising noise channel."
   ]
  },
  {
   "cell_type": "code",
   "execution_count": null,
   "metadata": {},
   "outputs": [],
   "source": [
    "predicted_prob = 4*chi_matrix[1,1]"
   ]
  },
  {
   "cell_type": "markdown",
   "metadata": {},
   "source": [
    "Compare the input and inferred values"
   ]
  },
  {
   "cell_type": "code",
   "execution_count": null,
   "metadata": {},
   "outputs": [],
   "source": [
    "np.isclose(predicted_prob, p)"
   ]
  },
  {
   "cell_type": "markdown",
   "metadata": {},
   "source": [
    "Check trace-preserving-ness"
   ]
  },
  {
   "cell_type": "code",
   "execution_count": null,
   "metadata": {},
   "outputs": [],
   "source": [
    "sum_of_terms = np.sum([chi_matrix[m, n] * func_E(n) @ func_E(m) for n in range(4) for m in range(4)], axis=0)"
   ]
  },
  {
   "cell_type": "code",
   "execution_count": null,
   "metadata": {},
   "outputs": [],
   "source": [
    "if np.allclose(sum_of_terms, np.eye(2)):\n",
    "    print(\"Process is trace preserving\")\n",
    "else:\n",
    "    print(\"Process is not trace preserving\")"
   ]
  },
  {
   "cell_type": "code",
   "execution_count": null,
   "metadata": {},
   "outputs": [],
   "source": [
    "compute_kraus_operators(chi_matrix, True)"
   ]
  },
  {
   "cell_type": "markdown",
   "metadata": {},
   "source": [
    "### Two qubit functions"
   ]
  },
  {
   "cell_type": "markdown",
   "metadata": {},
   "source": [
    "#### Two qubit case\n",
    "\n",
    "The following explanation is extremely similar to that of the single qubit case, simple generalised to two qubits now.\n",
    "\n",
    "For two qubits, preparing a Bloch state $\\mathcal{B}_i \\otimes \\mathcal{B}_j \\left | 0 \\right > \\left | 0 \\right >$, subjecting the qubits to the process represented by $\\chi$, changing basis using $\\mathcal{B}_k \\otimes \\mathcal{B}_l$ and then measuring the probability of finding the qubits in their ground state $\\left | 0 \\right >\\left | 0 \\right >$, gives the probability $\\lambda_{ijkl}$, where\n",
    "\n",
    "\\begin{equation} \\tag{7}\n",
    "\\lambda_{ijkl} = \\sum_{m,n = 0}^{d^2 - 1} \\chi_{mn} \\text{Tr}( \\mathcal{B}^{\\dagger}_k \\otimes \\mathcal{B}^{\\dagger}_l \\left | 0 \\right > \\left | 0 \\right > \\left < 0 \\right | \\left < 0 \\right | \\mathcal{B}_k \\otimes \\mathcal{B}_l E_m \\mathcal{B}_i \\otimes \\mathcal{B}_j \\left | 0 \\right >  \\left | 0 \\right > \\left < 0 \\right | \\left < 0 \\right | \\mathcal{B}^{\\dagger}_i \\otimes \\mathcal{B}^{\\dagger}_j E^{\\dagger}_n),\n",
    "\\end{equation}\n",
    "\n",
    "for $i, j, k, l \\in \\{ 0, 1, 2, 3, 4, 5  \\}$. Note that $\\text{Tr}( \\mathcal{B}^{\\dagger}_k \\otimes \\mathcal{B}^{\\dagger}_l \\left | 0 \\right > \\left | 0 \\right > \\left < 0 \\right | \\left < 0 \\right | \\mathcal{B}_k \\otimes \\mathcal{B}_l E_m \\mathcal{B}_i \\otimes \\mathcal{B}_j \\left | 0 \\right >  \\left | 0 \\right > \\left < 0 \\right | \\left < 0 \\right | \\mathcal{B}^{\\dagger}_i \\otimes \\mathcal{B}^{\\dagger}_j E^{\\dagger}_n)$ is also a constant independent of any experimental data. We represent it as $B_{ijklmn} = \\text{Tr}( \\mathcal{B}^{\\dagger}_k \\otimes \\mathcal{B}^{\\dagger}_l \\left | 0 \\right > \\left | 0 \\right > \\left < 0 \\right | \\left < 0 \\right | \\mathcal{B}_k \\otimes \\mathcal{B}_l E_m \\mathcal{B}_i \\otimes \\mathcal{B}_j \\left | 0 \\right >  \\left | 0 \\right > \\left < 0 \\right | \\left < 0 \\right | \\mathcal{B}^{\\dagger}_i \\otimes \\mathcal{B}^{\\dagger}_j E^{\\dagger}_n)$.\n",
    "\n",
    "These measurements $\\lambda_{ijkl}$, in terms of the Bloch sphere states, are what we observe in the lab. However, we have chosen to describe the $\\chi$ matrix formalism in terms of the Pauli basis. Thankfully, we can exploit the linearity of the $\\varepsilon$ process and map results from the Bloch state case to the Pauli basis by taking linear combinations of Bloch sphere state measurements. In other words, we need to express each (two-qubit) Pauli matrix $E_m$ (where $m \\in \\{ 0, 1, \\cdots, 15 \\}$) as a linear combination of Bloch sphere states $\\mathcal{B}_i  \\otimes \\mathcal{B}_j \\left | 0 \\right >  \\left | 0 \\right >\\left | 0 \\right > \\left < 0 \\right | \\left < 0 \\right | \\mathcal{B}^{\\dagger}_i \\otimes \\mathcal{B}^{\\dagger}_j$. This is simple enough to do; the coefficients $c_{mij}$, are such that\n",
    "\n",
    "\\begin{equation} \\tag{8}\n",
    "E_m = \\sum_{i,j=0}^5 c_{mij} \\mathcal{B}_i \\otimes \\mathcal{B}_j \\left | 0 \\right > \\left | 0 \\right > \\left < 0 \\right | \\left < 0 \\right | \\mathcal{B}^{\\dagger}_i \\otimes \\mathcal{B}^{\\dagger}_j,\n",
    "\\end{equation}\n",
    "\n",
    "are unique and listed below. Using this, we can map $B_{ijklmn}$ to $P_{stmn}$ as\n",
    "\n",
    "\\begin{equation} \\tag{9}\n",
    "P_{stmn} = \\sum_{i,j,k,l=0}^5 c_{sij} c^{*}_{tkl} B_{ijklmn}.\n",
    "\\end{equation}\n",
    "\n",
    "There is also a mapping between Bloch state measurement data, $\\lambda_{ijkl}$, to Pauli state measurements, $m_{st}$, via\n",
    "\n",
    "\\begin{equation} \\tag{10}\n",
    "m_{st} = \\sum_{m,n = 0}^{d^2 - 1} \\chi_{mn} P_{stmn} = \\sum_{m,n = 0}^{d^2 - 1} \\chi_{mn} \\sum_{i, j, k, l=0}^5 c_{sij} c^{*}_{tkl} B_{ijklmn} = \\sum_{i,j,k,l=0}^5 c_{sij} c^{*}_{tkl} \\lambda_{ijkl}\n",
    "\\end{equation}\n",
    "\n",
    "We have all of the logic needed to perform process tomography for two qubits:\n",
    "\n",
    "1. Collect measurement data $\\lambda_{ijkl}$ from the lab corresponding to preparing Bloch state $i$ on qubit 1 and $j$ on qubit 2, and measuring Bloch state $k$ on qubit 1 and $l$ on qubit 2\n",
    "2. Map this data to the Pauli basis $m_{st}$ using Eq. 10\n",
    "3. Solve Eq. 2, i.e. $m_{st} = \\sum_{m,n = 0}^{d^2 - 1} \\chi_{mn} P_{stmn}$, for $\\chi$"
   ]
  },
  {
   "cell_type": "markdown",
   "metadata": {},
   "source": [
    "Below, `func_E2(i)` corresponds with $E_i$, and `func_c2(s, i, j)` with $c_{sij}$, for this two-qubit case"
   ]
  },
  {
   "cell_type": "code",
   "execution_count": null,
   "metadata": {},
   "outputs": [],
   "source": [
    "def func_E2(n: int):\n",
    "    # 16 two-qubit Pauli operators\n",
    "    \n",
    "    i = np.array([[1,0],[0,1]])\n",
    "    x = np.array([[0,1],[1,0]])\n",
    "    y = np.array([[0,-1j],[1j,0]])\n",
    "    z = np.array([[1,0],[0,-1]])\n",
    "\n",
    "    match n:\n",
    "        case 0: # I x I\n",
    "            return np.kron(i, i)\n",
    "        case 1: # I x X\n",
    "            return np.kron(i, x)\n",
    "        case 2: # I x Y\n",
    "            return np.kron(i, y)\n",
    "        case 3: # I x Z\n",
    "            return np.kron(i, z)\n",
    "        case 4: # X x I\n",
    "            return np.kron(x, i)\n",
    "        case 5: # X x X\n",
    "            return np.kron(x, x)\n",
    "        case 6: # X x Y\n",
    "            return np.kron(x, y)\n",
    "        case 7: # X x Z\n",
    "            return np.kron(x, z)\n",
    "        case 8: # Y x I\n",
    "            return np.kron(y, i)\n",
    "        case 9: # Y x X\n",
    "            return np.kron(y, x)\n",
    "        case 10: # Y x Y\n",
    "            return np.kron(y, y)\n",
    "        case 11: # Y x Z\n",
    "            return np.kron(y, z)\n",
    "        case 12: # Z x I\n",
    "            return np.kron(z, i)\n",
    "        case 13: # Z x X\n",
    "            return np.kron(z, x)\n",
    "        case 14: # Z x Y\n",
    "            return np.kron(z, y)\n",
    "        case 15: # Z x Z\n",
    "            return np.kron(z, z)\n",
    "        case _:\n",
    "            raise ValueError(\"Input integer should be between 0 and 15, inclusive\")\n",
    "\n",
    "@functools.lru_cache()\n",
    "def func_c2(i: int, j: int, k: int):\n",
    "    # Constants func_c2(i,j,k) such that\n",
    "    # func_E2(i) = sum_{j,k} func_c2(i,j,k) (func_B(j) x func_B(k)) |0>|0><0|<0| (func_B(j)^{\\dagger} x func_B(k)^{\\dagger})\n",
    "    match (i, j, k):\n",
    "        case (0,0,0):\n",
    "            return 1\n",
    "        case (0,0,1):\n",
    "            return 1\n",
    "        case (0,1,0):\n",
    "            return 1\n",
    "        case (0,1,1):\n",
    "            return 1\n",
    "        case (1,0,0):\n",
    "            return -(1 + 1j)\n",
    "        case (1,0,1):\n",
    "            return -(1 + 1j)\n",
    "        case (1,0,2):\n",
    "            return 2\n",
    "        case (1,0,4):\n",
    "            return 1j\n",
    "        case (1,0,5):\n",
    "            return 1j\n",
    "        case (1,1,0):\n",
    "            return -(1 + 1j)\n",
    "        case (1,1,1):\n",
    "            return -(1 + 1j)\n",
    "        case (1,1,2):\n",
    "            return 2\n",
    "        case (1,1,4):\n",
    "            return 1j\n",
    "        case (1,1,5):\n",
    "            return 1j\n",
    "        case (2,0,4):\n",
    "            return 1\n",
    "        case (2,0,5):\n",
    "            return -1\n",
    "        case (2,1,4):\n",
    "            return 1\n",
    "        case (2,1,5):\n",
    "            return -1\n",
    "        case (3,0,0):\n",
    "            return 1\n",
    "        case (3,0,1):\n",
    "            return -1\n",
    "        case (3,1,0):\n",
    "            return 1\n",
    "        case (3,1,1):\n",
    "            return -1\n",
    "        case (4,0,0):\n",
    "            return -(1 + 1j)\n",
    "        case (4,0,1):\n",
    "            return -(1 + 1j)\n",
    "        case (4,1,0):\n",
    "            return -(1 + 1j)\n",
    "        case (4,1,1):\n",
    "            return -(1 + 1j)\n",
    "        case (4,2,0):\n",
    "            return 2\n",
    "        case (4,2,1):\n",
    "            return 2\n",
    "        case (4,4,0):\n",
    "            return 1j\n",
    "        case (4,4,1):\n",
    "            return 1j\n",
    "        case (4,5,0):\n",
    "            return 1j\n",
    "        case (4,5,1):\n",
    "            return 1j\n",
    "        case (5,0,0):\n",
    "            return (1 + 1j)**2\n",
    "        case (5,0,1):\n",
    "            return (1 + 1j)**2\n",
    "        case (5,1,0):\n",
    "            return (1 + 1j)**2\n",
    "        case (5,1,1):\n",
    "            return (1 + 1j)**2\n",
    "        case (5,0,2):\n",
    "            return -2 * (1 + 1j)\n",
    "        case (5,1,2):\n",
    "            return -2 * (1 + 1j)\n",
    "        case (5,2,0):\n",
    "            return -2 * (1 + 1j)\n",
    "        case (5,2,1): \n",
    "            return -2 * (1 + 1j)\n",
    "        case (5,0,4):\n",
    "            return -1j * (1 + 1j)\n",
    "        case (5,0,5):\n",
    "            return -1j * (1 + 1j)\n",
    "        case (5,1,4):\n",
    "            return -1j * (1 + 1j)\n",
    "        case (5,1,5):\n",
    "            return -1j * (1 + 1j)\n",
    "        case (5,4,0):\n",
    "            return -1j * (1 + 1j)\n",
    "        case (5,4,1):\n",
    "            return -1j * (1 + 1j)\n",
    "        case (5,5,0):\n",
    "            return -1j * (1 + 1j)\n",
    "        case (5,5,1):\n",
    "            return -1j * (1 + 1j)\n",
    "        case (5,2,2):\n",
    "            return 4\n",
    "        case (5,2,4):\n",
    "            return 2*1j\n",
    "        case (5,2,5):\n",
    "            return 2*1j\n",
    "        case (5,4,2):\n",
    "            return 2*1j\n",
    "        case (5,5,2):\n",
    "            return 2*1j\n",
    "        case (5,4,4):\n",
    "            return -1\n",
    "        case (5,4,5):\n",
    "            return -1\n",
    "        case (5,5,4):\n",
    "            return -1\n",
    "        case (5,5,5):\n",
    "            return -1\n",
    "        case (6,0,4):\n",
    "            return -(1 + 1j)\n",
    "        case (6,1,4):\n",
    "            return -(1 + 1j)\n",
    "        case (6,0,5):\n",
    "            return (1 + 1j)\n",
    "        case (6,1,5):\n",
    "            return (1 + 1j)\n",
    "        case (6,2,4):\n",
    "            return 2\n",
    "        case (6,2,5):\n",
    "            return -2\n",
    "        case (6,4,4):\n",
    "            return 1j\n",
    "        case (6,5,4):\n",
    "            return 1j\n",
    "        case (6,4,5):\n",
    "            return -1j\n",
    "        case (6,5,5):\n",
    "            return -1j\n",
    "        case (7,0,0):\n",
    "            return -(1 + 1j)\n",
    "        case (7,1,0):\n",
    "            return -(1 + 1j)\n",
    "        case (7,0,1):\n",
    "            return (1 + 1j)\n",
    "        case (7,1,1):\n",
    "            return (1 + 1j)\n",
    "        case (7,2,0):\n",
    "            return 2\n",
    "        case (7,2,1):\n",
    "            return -2\n",
    "        case (7,4,0):\n",
    "            return 1j\n",
    "        case (7,5,0):\n",
    "            return 1j\n",
    "        case (7,4,1):\n",
    "            return -1j\n",
    "        case (7,5,1):\n",
    "            return -1j\n",
    "        case (8,4,0):\n",
    "            return 1\n",
    "        case (8,4,1):\n",
    "            return 1\n",
    "        case (8,5,0):\n",
    "            return -1\n",
    "        case (8,5,1):\n",
    "            return -1\n",
    "        case (9,4,0):\n",
    "            return -(1 + 1j)\n",
    "        case (9,4,1):\n",
    "            return -(1 + 1j)\n",
    "        case (9,5,0):\n",
    "            return (1 + 1j)\n",
    "        case (9,5,1):\n",
    "            return (1 + 1j)\n",
    "        case (9,4,4):\n",
    "            return 1j\n",
    "        case (9,4,5):\n",
    "            return 1j\n",
    "        case (9,5,4):\n",
    "            return -1j\n",
    "        case (9,5,5):\n",
    "            return -1j\n",
    "        case (9,4,2):\n",
    "            return 2\n",
    "        case (9,5,2):\n",
    "            return -2\n",
    "        case (10,4,4):\n",
    "            return 1\n",
    "        case (10,5,5):\n",
    "            return 1\n",
    "        case (10,4,5):\n",
    "            return -1\n",
    "        case (10,5,4):\n",
    "            return -1\n",
    "        case (11,4,0):\n",
    "            return 1\n",
    "        case (11,5,1):\n",
    "            return 1\n",
    "        case (11,4,1):\n",
    "            return -1\n",
    "        case (11,5,0):\n",
    "            return -1\n",
    "        case (12,0,0):\n",
    "            return 1\n",
    "        case (12,0,1):\n",
    "            return 1\n",
    "        case (12,1,0):\n",
    "            return -1\n",
    "        case (12,1,1):\n",
    "            return -1\n",
    "        case (13,0,0):\n",
    "            return -(1 + 1j)\n",
    "        case (13,0,1):\n",
    "            return -(1 + 1j)\n",
    "        case (13,1,0):\n",
    "            return (1 + 1j)\n",
    "        case (13,1,1):\n",
    "            return (1 + 1j)\n",
    "        case (13,0,2):\n",
    "            return 2\n",
    "        case (13,1,2):\n",
    "            return -2\n",
    "        case (13,0,4):\n",
    "            return 1j\n",
    "        case (13,0,5):\n",
    "            return 1j\n",
    "        case (13,1,4):\n",
    "            return -1j\n",
    "        case (13,1,5):\n",
    "            return -1j\n",
    "        case (14,0,4):\n",
    "            return 1\n",
    "        case (14,1,5):\n",
    "            return 1\n",
    "        case (14,0,5):\n",
    "            return -1\n",
    "        case (14,1,4):\n",
    "            return -1\n",
    "        case (15,0,0):\n",
    "            return 1\n",
    "        case (15,1,1):\n",
    "            return 1\n",
    "        case (15,0,1):\n",
    "            return -1\n",
    "        case (15,1,0):\n",
    "            return -1\n",
    "        case _:\n",
    "            return 0"
   ]
  },
  {
   "cell_type": "markdown",
   "metadata": {},
   "source": [
    "For any two-qubit input state $\\rho$, decomposes $\\rho$ into the Pauli operator basis $E_i$"
   ]
  },
  {
   "cell_type": "code",
   "execution_count": null,
   "metadata": {},
   "outputs": [],
   "source": [
    "def decompose_state_into_pauli_basis_process2(rho, should_print_description = False):\n",
    "\n",
    "    if not ishermitian(rho):\n",
    "        print(f\"Matrix rho is not Hermitian\")\n",
    "    else:\n",
    "        if not is_pos_semidef(rho):\n",
    "            print(f\"Matrix rho is not positive semi-definite\")\n",
    "    if not np.isclose(np.trace(rho), 1.0):\n",
    "        print(\"Matrix rho is not normalised\")\n",
    "\n",
    "    coefficients = []\n",
    "\n",
    "    if should_print_description:\n",
    "        print(\"Input state rho decomposed in the Pauli basis E(i), i.e. rho = \\sum a(i)E(i) is:\\n\")\n",
    "    \n",
    "    for j in range(len(rho[0])**2):\n",
    "        result = 0.25 * np.trace((func_E2(j).conj().T) @ rho)\n",
    "\n",
    "        if not np.isclose(result.imag, 0.0):\n",
    "            raise ValueError(f\"Result {result} should have no imaginary part\")\n",
    "        else:\n",
    "            result = result.real\n",
    "\n",
    "        coefficients.append(result)\n",
    "\n",
    "        if should_print_description:\n",
    "            print(f\"{j}) a({j}) = 1/4 * Tr[E({j}).rho] = {result}\")\n",
    "    \n",
    "    return coefficients"
   ]
  },
  {
   "cell_type": "markdown",
   "metadata": {},
   "source": [
    "Test for $\\rho = \\left | 0 \\right >\\left | 0 \\right > \\left < 0 \\right |\\left < 0 \\right |$"
   ]
  },
  {
   "cell_type": "code",
   "execution_count": null,
   "metadata": {},
   "outputs": [],
   "source": [
    "rho_test = np.array([[1,0,0,0],[0,0,0,0],[0,0,0,0],[0,0,0,0]])\n",
    "\n",
    "decompose_state_into_pauli_basis_process2(rho_test, True)"
   ]
  },
  {
   "cell_type": "markdown",
   "metadata": {},
   "source": [
    "The following describes decomposing an input Pauli operator $E_j$ into a linear combination of two qubit Bloch sphere states $\\mathcal{B}_i \\otimes \\mathcal{B}_j \\left | 0 \\right > \\left | 0 \\right > \\left < 0 \\right | \\left < 0 \\right | \\mathcal{B}^{\\dagger}_i \\otimes \\mathcal{B}^{\\dagger}_j$"
   ]
  },
  {
   "cell_type": "code",
   "execution_count": null,
   "metadata": {},
   "outputs": [],
   "source": [
    "def describe_decomposing_pauli_operator_into_rank_1_bloch_state2(k, should_print_description):\n",
    "\n",
    "    if should_print_description:\n",
    "        print(f\"Input Pauli operator E({k}) decomposed into the rank 1 Bloch sphere states, i.e. E({k}) = \\sum c({k},i,j)F(i)⊗F(j)|0><0|F(i)^dagger ⊗ F(j)^dagger, is:\\n\")\n",
    "\n",
    "    for i in range(6):\n",
    "        for j in range(6):\n",
    "\n",
    "            if should_print_description:\n",
    "                print(f\"{i},{j}) Coefficient of F({i})F({j}) term is: c({k},{i},{j}) = {func_c2(k,i,j)}\\n\")"
   ]
  },
  {
   "cell_type": "code",
   "execution_count": null,
   "metadata": {},
   "outputs": [],
   "source": [
    "describe_decomposing_pauli_operator_into_rank_1_bloch_state2(1, True)"
   ]
  },
  {
   "cell_type": "markdown",
   "metadata": {},
   "source": [
    "Helper functions to check math"
   ]
  },
  {
   "cell_type": "code",
   "execution_count": null,
   "metadata": {},
   "outputs": [],
   "source": [
    "def reconstruct_pauli_from_rank_1_bloch_states2(i):\n",
    "\n",
    "    answer = 0.0 + 0.0*1j\n",
    "\n",
    "    for j in range(6):\n",
    "        for k in range(6):\n",
    "            answer += func_c2(i, j, k) * (kron(func_B(j), func_B(k)) @ np.array([[1,0,0,0],[0,0,0,0],[0,0,0,0],[0,0,0,0]]) @ (kron(func_B(j).conj().T, func_B(k).conj().T)))\n",
    "    \n",
    "    return answer\n",
    "\n",
    "def check_EC_mapping2(i):\n",
    "\n",
    "    reconstructed_operator = reconstruct_pauli_from_rank_1_bloch_states2(i)\n",
    "\n",
    "    if not np.allclose(reconstructed_operator, func_E2(i)):\n",
    "\n",
    "        result = False\n",
    "\n",
    "        print(f\"Reconstruction for operator E({i}) failed!\\n\")\n",
    "    \n",
    "    else:\n",
    "        result = True\n",
    "\n",
    "        print(f\"Reconstruction for operator E({i}) passed!\\n\")\n",
    "    \n",
    "    return result\n",
    "\n",
    "for j in range(16):\n",
    "\n",
    "    check_EC_mapping2(j)"
   ]
  },
  {
   "cell_type": "markdown",
   "metadata": {},
   "source": [
    "Corresponds to $B_{ijklmn}$ in Eq 7 above"
   ]
  },
  {
   "cell_type": "code",
   "execution_count": null,
   "metadata": {},
   "outputs": [],
   "source": [
    "def B_Bloch2(i, j, k, l, m, n):\n",
    "\n",
    "    # start from qubits ground states, create one of six Bloch sphere states\n",
    "    # using func_B for each of the two qubits, add one of the 16 (4**2)\n",
    "    # Pauli operator basis func_E, and measure one of the six Bloch sphere\n",
    "    # state projectors for each qubit, i.e.\n",
    "    # func_B[.]^{\\dagger}func_B[.]^{\\dagger} |0>|0><0|<0| func_B[.] func_B[.].\n",
    "    # These B_Bloch constants appear when expressing the Pauli states\n",
    "    # in terms of combinations of Bloch sphere states, assuming you\n",
    "    # start from the qubits' ground states\n",
    "\n",
    "    starting_state = np.array([[1,0,0,0],[0,0,0,0],[0,0,0,0],[0,0,0,0]])\n",
    "\n",
    "    bloch_state = np.kron(func_B(i), func_B(j)) @ starting_state @ np.kron(func_B(i).conj().T, func_B(j).conj().T)\n",
    "    add_paulis = func_E2(m) @ bloch_state @ (func_E2(n).conj().T)\n",
    "    measure_bloch_state = np.kron(func_B(k).conj().T, func_B(l).conj().T) @ starting_state @ np.kron(func_B(k), func_B(l)) @ add_paulis\n",
    "\n",
    "    return measure_bloch_state.trace()"
   ]
  },
  {
   "cell_type": "markdown",
   "metadata": {},
   "source": [
    "Corresponds to $P_{stmn}$ in Eq. 2 above, and explicitly performs the mapping of Eq. 9"
   ]
  },
  {
   "cell_type": "code",
   "execution_count": null,
   "metadata": {},
   "outputs": [],
   "source": [
    "def P_Pauli2(s, t, m, n):\n",
    "\n",
    "    result = 0\n",
    "\n",
    "    for i in range(0, 6):\n",
    "        for j in range(0, 6):\n",
    "            for k in range(0, 6):\n",
    "                for l in range(0, 6):\n",
    "                    result += func_c2(s, i, j) * np.conj(func_c2(t, k, l)) * B_Bloch2(i, j, k, l, m, n)\n",
    "\n",
    "    return result"
   ]
  },
  {
   "cell_type": "markdown",
   "metadata": {},
   "source": [
    "Print out a description of Eq 9 per index"
   ]
  },
  {
   "cell_type": "code",
   "execution_count": null,
   "metadata": {},
   "outputs": [],
   "source": [
    "def convert_Matrix_from_bloch_to_pauli2(should_print_description):\n",
    "\n",
    "    if should_print_description:\n",
    "\n",
    "        print(f\"The P matrix, converted from the B matrix (i.e. from Bloch states to Paulis), is:\\n\")\n",
    "    \n",
    "        for s in range(16):\n",
    "            for t in range(16):\n",
    "                for m in range(16):\n",
    "                    for n in range(16):\n",
    "                        print(f\"The matrix element Tr[E^dagger({t})E({m})E({s})E^dagger({n})] is: P({s},{t},{m},{n}) = {P_Pauli2(s, t, m, n)}\")"
   ]
  },
  {
   "cell_type": "markdown",
   "metadata": {},
   "source": [
    "#### Note: computing the PMatrix in the two-qubit case takes a while. But since the matrix is a constant, I've computed it once and it can simply be loaded from the accompanying pickle file"
   ]
  },
  {
   "cell_type": "code",
   "execution_count": null,
   "metadata": {},
   "outputs": [],
   "source": [
    "# commented out since this just prints out a description of the many measurements, and takes a while\n",
    "# convert_Matrix_from_bloch_to_pauli2(True)"
   ]
  },
  {
   "cell_type": "markdown",
   "metadata": {},
   "source": [
    "Assuming you didn't load the file, the last line reshapes $P_{stmn}$ into a 2D matrix (used to solve Eq. 2)"
   ]
  },
  {
   "cell_type": "code",
   "execution_count": null,
   "metadata": {},
   "outputs": [],
   "source": [
    "file_string = \"/Users/nbornman-local/Desktop/PMatrix2.pickle\"\n",
    "\n",
    "if os.path.isfile(file_string):\n",
    "    with open(file_string, \"rb\") as file:\n",
    "        PMatrix2 = pickle.load(file)\n",
    "else:\n",
    "    PMatrix2 = np.array([[P_Pauli2(np.floor(v/16).astype(int), v % 16, np.floor(w/16).astype(int), w % 16) for w in range(16**2)] for v in range(16**2)]).round(8)"
   ]
  },
  {
   "cell_type": "markdown",
   "metadata": {},
   "source": [
    "### Two qubit example: amplitude damping on qubit 1 and de-phasing on qubit 2"
   ]
  },
  {
   "cell_type": "markdown",
   "metadata": {},
   "source": [
    "Simulate amplitude damping noise channel on qubit 1 and dephasing noise on qubit 2, with probability to damp, $p0$, equal to $13\\%$, and the probability of dephasing, $p1$, equal to $20\\%$ (see Ref 3)"
   ]
  },
  {
   "cell_type": "code",
   "execution_count": null,
   "metadata": {},
   "outputs": [],
   "source": [
    "p0 = 0.13\n",
    "p1 = 0.2\n",
    "\n",
    "k0 = kron(np.array([[1, 0], [0, np.sqrt(1-p0)]]), np.sqrt(1- p1/2) * i)\n",
    "k1 = kron(np.array([[0, np.sqrt(p0)], [0, 0]]), np.sqrt(1- p1/2) * i)\n",
    "k2 = kron(np.array([[1, 0], [0, np.sqrt(1-p0)]]), np.sqrt(p1/2) * z)\n",
    "k3 = kron(np.array([[0, np.sqrt(p0)], [0, 0]]), np.sqrt(p1/2) * z)"
   ]
  },
  {
   "cell_type": "markdown",
   "metadata": {},
   "source": [
    "The process in terms of Kraus operators"
   ]
  },
  {
   "cell_type": "code",
   "execution_count": null,
   "metadata": {},
   "outputs": [],
   "source": [
    "def damping_and_dephasing(rho):\n",
    "\n",
    "    return (k0 @ rho @ (k0.conj().T)) + (k1 @ rho @ (k1.conj().T)) + (k2 @ rho @ (k2.conj().T)) + (k3 @ rho @ (k3.conj().T))"
   ]
  },
  {
   "cell_type": "markdown",
   "metadata": {},
   "source": [
    "Initialise empty Bloch sphere basis measurement array 'lamb' (correspondint to $\\lambda$), and Pauli basis array 'm' (corresponding to $m$)."
   ]
  },
  {
   "cell_type": "code",
   "execution_count": null,
   "metadata": {},
   "outputs": [],
   "source": [
    "lamb = np.empty((6, 6, 6, 6))\n",
    "m = np.empty((16, 16))"
   ]
  },
  {
   "cell_type": "markdown",
   "metadata": {},
   "source": [
    "Simulate the process of performing two qubit process tomography for the input 'process', by preparing and measuring Bloch sphere states"
   ]
  },
  {
   "cell_type": "code",
   "execution_count": null,
   "metadata": {},
   "outputs": [],
   "source": [
    "def simulate_process_tomography_measurements_with_input_bloch_states_and_measuring_bloch_projectors2(process, should_print_description):\n",
    "\n",
    "    for i in range(6):\n",
    "        for j in range(6):\n",
    "            for k in range(6):\n",
    "                for l in range(6):\n",
    "\n",
    "                    rho = np.array([[1, 0, 0, 0], [0, 0, 0, 0], [0, 0, 0, 0], [0, 0, 0, 0]])\n",
    "\n",
    "                    rho = kron(func_B(i), func_B(j)) @ rho @ kron((func_B(i).conj().T), (func_B(j).conj().T))\n",
    "\n",
    "                    rho = process(rho)\n",
    "\n",
    "                    rho = kron((func_B(k).conj().T), (func_B(l).conj().T)) @ np.array([[1, 0, 0, 0], [0, 0, 0, 0], [0, 0, 0, 0], [0, 0, 0, 0]]) @ kron(func_B(k), func_B(l)) @ rho\n",
    "\n",
    "                    res = np.trace(rho)\n",
    "\n",
    "                    if not np.isclose(res.imag, 0.0):\n",
    "                        raise ValueError(f\"Result {res} should be real\")\n",
    "                    else:\n",
    "                        res = res.real\n",
    "\n",
    "                    lamb[i, j, k, l] = res\n",
    "\n",
    "                    if should_print_description:\n",
    "\n",
    "                        print(f\"Measurement result of input process for the input state F({i})⊗F({j})|0> and Bloch projector F({k})⊗F({l})|0><0|Fdag({k})⊗Fdag({l}) = {lamb[i, j, k, l]}\\n\")"
   ]
  },
  {
   "cell_type": "code",
   "execution_count": null,
   "metadata": {},
   "outputs": [],
   "source": [
    "simulate_process_tomography_measurements_with_input_bloch_states_and_measuring_bloch_projectors2(damping_and_dephasing, True)"
   ]
  },
  {
   "cell_type": "markdown",
   "metadata": {},
   "source": [
    "For a given input Bloch sphere measuremenet matrix (here called 'lamb'), describes the corresponding Pauli measurement matrix (here 'm')"
   ]
  },
  {
   "cell_type": "code",
   "execution_count": null,
   "metadata": {},
   "outputs": [],
   "source": [
    "def map_from_bloch_state_measurements_to_pauli2(arr, should_print_description):\n",
    "\n",
    "    if arr.shape != (6, 6, 6, 6):\n",
    "        raise ValuerError(\"Input array must be 6x6x6x6\")\n",
    "    \n",
    "    if should_print_description:\n",
    "        print(f\"For the Bloch states' measurements, the Pauli basis m measurement matrix's elements are:\\n\")\n",
    "\n",
    "    for q in range(16):\n",
    "        for n in range(16):\n",
    "\n",
    "            result = 0\n",
    "    \n",
    "            for i in range(0, 6):\n",
    "                for j in range(0, 6):\n",
    "                    for k in range(0, 6):\n",
    "                        for l in range(0, 6):\n",
    "\n",
    "                            result += func_c2(q, i, j) * np.conj(func_c2(n, k, l)) * arr[i][j][k][l]\n",
    "            \n",
    "\n",
    "            if not np.isclose(result.imag, 0.0):\n",
    "                raise ValueError(f\"Result {result} should be real\")\n",
    "            else:\n",
    "                result = result.real\n",
    "            \n",
    "            m[q, n] = result\n",
    "            \n",
    "            if should_print_description:\n",
    "                print(f\"If the Pauli state E({q}) were prepared and the Pauli observable E({n}) measured, the measured value would be: Tr(E^(dagger)({n})ε(E({q}))) = m({q},{n}) = {result}\")"
   ]
  },
  {
   "cell_type": "code",
   "execution_count": null,
   "metadata": {},
   "outputs": [],
   "source": [
    "map_from_bloch_state_measurements_to_pauli2(lamb, True)"
   ]
  },
  {
   "cell_type": "markdown",
   "metadata": {},
   "source": [
    "Reshapes Pauli measurement matrix 'm' into a 1D vector."
   ]
  },
  {
   "cell_type": "code",
   "execution_count": null,
   "metadata": {},
   "outputs": [],
   "source": [
    "measurement_vector = np.array([m[np.floor(v/16).astype(int), v % 16] for v in range(16**2)])"
   ]
  },
  {
   "cell_type": "markdown",
   "metadata": {},
   "source": [
    "Solves Eq. 2 for $\\chi$ in vectorised form, and reshapes the vector into the $\\chi_{mn}$ matrix"
   ]
  },
  {
   "cell_type": "code",
   "execution_count": null,
   "metadata": {},
   "outputs": [],
   "source": [
    "chi_vector = solve(PMatrix2, measurement_vector)\n",
    "chi_matrix = chi_vector.reshape(16, 16)"
   ]
  },
  {
   "cell_type": "markdown",
   "metadata": {},
   "source": [
    "Plot the $\\chi$ matrix"
   ]
  },
  {
   "cell_type": "code",
   "execution_count": null,
   "metadata": {},
   "outputs": [],
   "source": [
    "def plot_process_tomography2(chi_vector, heading = r'$\\chi$ matrix', save_file: str = None):\n",
    "\n",
    "    plt.rcParams['text.usetex'] = True\n",
    "\n",
    "    ticksfont = {'color':  'black', 'weight': 'normal','size': 4}\n",
    "\n",
    "    cmap = colormaps.get_cmap('viridis')\n",
    "\n",
    "    # set up figure\n",
    "    fig = plt.figure(figsize=(9, 4), dpi=250, facecolor=\"white\")\n",
    "    ax = fig.add_subplot(111, projection='3d')\n",
    "\n",
    "    # coordinates\n",
    "    r = np.arange(16)\n",
    "    _x, _y = np.meshgrid(r, r)\n",
    "    x, y = _x.ravel(), _y.ravel()\n",
    "\n",
    "    values0 = np.abs(chi_vector)\n",
    "    values1 = np.angle(chi_vector)\n",
    "\n",
    "    top = values0\n",
    "    bottom = np.zeros_like(top)\n",
    "\n",
    "    width = depth = 0.7\n",
    "\n",
    "    norm = Normalize(vmin=-np.pi, vmax=np.pi)\n",
    "    colors = cmap(norm(values1))\n",
    "\n",
    "    xy_ticks_labels = [r\"$II$\", r\"$IX$\", r\"$IY$\", r\"$IZ$\", r\"$XI$\", r\"$XX$\", r\"$XY$\", r\"$XZ$\", r\"$YI$\", r\"$YX$\", r\"$YY$\", r\"$YZ$\", r\"$ZI$\", r\"$ZX$\", r\"$ZY$\", r\"$ZZ$\"]\n",
    "\n",
    "    subplot = ax.bar3d(x, y, bottom, width, depth, top, shade=True, color=colors)\n",
    "    ax.set_xticks(r + 0.5, labels=xy_ticks_labels, fontdict=ticksfont)\n",
    "    ax.set_yticks(r + 0.5, labels=xy_ticks_labels, fontdict=ticksfont)\n",
    "    ax.set_zticks([0, (max(top)/2).round(2), max(top).round(2)])\n",
    "    ax.set_xlabel(\"Prepared\", fontdict = axisfont)\n",
    "    ax.set_ylabel(\"Measured\", fontdict = axisfont)\n",
    "    ax.set_title(heading, fontdict = titlefont)\n",
    "    ax.view_init(20, -60, 0)\n",
    "\n",
    "    sc = cm.ScalarMappable(cmap=cmap,norm=norm)\n",
    "    cbar = plt.colorbar(sc, ax=ax, pad=0.1, shrink=0.7)\n",
    "    cbar.set_ticks(ticks=[-np.pi, -np.pi/2, 0, np.pi/2, np.pi], labels=[r\"$-\\pi$\", r\"$-\\pi/2$\", r\"0\", r\"$\\pi/2$\", r\"$\\pi$\"])\n",
    "\n",
    "    if save_file:\n",
    "        plt.savefig(save_file, bbox_inches='tight')\n",
    "\n",
    "    plt.show()"
   ]
  },
  {
   "cell_type": "code",
   "execution_count": null,
   "metadata": {},
   "outputs": [],
   "source": [
    "plot_process_tomography2(chi_vector)"
   ]
  },
  {
   "cell_type": "markdown",
   "metadata": {},
   "source": [
    "Check trace-preserving-ness: if $\\chi$ is trace-preserving, it must satisfy $\\sum_{m,n=0}^{d^2 - 1} \\chi_{mn} E_{n} E_m = I$"
   ]
  },
  {
   "cell_type": "code",
   "execution_count": null,
   "metadata": {},
   "outputs": [],
   "source": [
    "sum_of_terms = np.sum([chi_matrix[m, n] * func_E2(n) @ func_E2(m) for n in range(16) for m in range(16)], axis=0)"
   ]
  },
  {
   "cell_type": "code",
   "execution_count": null,
   "metadata": {},
   "outputs": [],
   "source": [
    "if np.allclose(sum_of_terms, np.eye(4)):\n",
    "    print(\"Process is trace preserving\")\n",
    "else:\n",
    "    print(\"Process is not trace preserving\")"
   ]
  },
  {
   "cell_type": "markdown",
   "metadata": {},
   "source": [
    "Given $\\chi$ matrix, compute the corresponding Kraus operators"
   ]
  },
  {
   "cell_type": "code",
   "execution_count": null,
   "metadata": {},
   "outputs": [],
   "source": [
    "def compute_kraus_operators(chi_matrix, should_print_description):\n",
    "\n",
    "    print(\"NOTE: NEED TO DEBUG THIS - CHECK WHETHER chi_matrix NEEDS TO BE UNITARY OR WHETHER THIS SCHEME IS VALID REGARDLESS\")\n",
    "\n",
    "    kraus_operators = []\n",
    "\n",
    "    eigenvalues, eigenvectors = eig(chi_matrix)\n",
    "\n",
    "    if not np.allclose(eigenvectors @ (eigenvectors.conj().T), np.eye(16)):\n",
    "        print(\"Similarity matrix is not unitary!\")\n",
    "    \n",
    "    for m in range(16):\n",
    "        \n",
    "        operator = np.sqrt(eigenvalues[m]) * np.sum([eigenvectors[j, m]*func_E2(j) for j in range(16)], axis=0)\n",
    "\n",
    "        if should_print_description and not np.allclose(operator, np.zeros((4,4))):\n",
    "            print(f\"Kraus operator for arbitrary index m = {m}: {operator}\")\n",
    "            kraus_operators.append(operator.round(6))\n",
    "    \n",
    "    return kraus_operators"
   ]
  },
  {
   "cell_type": "code",
   "execution_count": null,
   "metadata": {},
   "outputs": [],
   "source": [
    "compute_kraus_operators(chi_matrix, True)"
   ]
  }
 ],
 "metadata": {
  "kernelspec": {
   "display_name": "quantum_env",
   "language": "python",
   "name": "python3"
  },
  "language_info": {
   "codemirror_mode": {
    "name": "ipython",
    "version": 3
   },
   "file_extension": ".py",
   "mimetype": "text/x-python",
   "name": "python",
   "nbconvert_exporter": "python",
   "pygments_lexer": "ipython3",
   "version": "3.10.14"
  }
 },
 "nbformat": 4,
 "nbformat_minor": 2
}
